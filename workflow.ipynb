{
  "cells": [
    {
      "cell_type": "markdown",
      "metadata": {
        "id": "view-in-github",
        "colab_type": "text"
      },
      "source": [
        "<a href=\"https://colab.research.google.com/github/darthVarada/leaningML/blob/main/workflow.ipynb\" target=\"_parent\"><img src=\"https://colab.research.google.com/assets/colab-badge.svg\" alt=\"Open In Colab\"/></a>"
      ]
    },
    {
      "cell_type": "markdown",
      "metadata": {
        "id": "CjKBGT2BiK4X"
      },
      "source": [
        "## Pytorch WorkFlow\n",
        "\n",
        "lets explore a an example PyTorch end-to-end workflow\n",
        "\n",
        "Resouces:\n",
        "* Ground truth notebook -https://github.com/mrdbourke/pytorch-deep-learning/tree/main\n",
        "* Book version of notebook - https://www.learnpytorch.io/01_pytorch_workflow/\n"
      ]
    },
    {
      "cell_type": "code",
      "execution_count": 1,
      "metadata": {
        "colab": {
          "base_uri": "https://localhost:8080/"
        },
        "id": "4lugZ6WniJUz",
        "outputId": "a7023442-b6be-4e51-8b6c-0fccf3731e0a"
      },
      "outputs": [
        {
          "output_type": "execute_result",
          "data": {
            "text/plain": [
              "{1: 'data (prepering and loading)',\n",
              " 2: 'building model',\n",
              " 3: 'fitting the model to data (treining)',\n",
              " 4: 'making predictions and evalueting a model (inference)',\n",
              " 5: 'saving and loading a model',\n",
              " 6: 'putting it all together'}"
            ]
          },
          "metadata": {},
          "execution_count": 1
        }
      ],
      "source": [
        "what_is_covering = {1: \"data (prepering and loading)\",\n",
        "                    2: \"building model\",\n",
        "                    3: \"fitting the model to data (treining)\",\n",
        "                    4: \"making predictions and evalueting a model (inference)\",\n",
        "                    5: \"saving and loading a model\",\n",
        "                    6: \"putting it all together\"\n",
        "}\n",
        "what_is_covering"
      ]
    },
    {
      "cell_type": "code",
      "execution_count": 2,
      "metadata": {
        "colab": {
          "base_uri": "https://localhost:8080/",
          "height": 35
        },
        "id": "QzfUe8eilrom",
        "outputId": "edcfe47a-0f9a-4276-9203-f9a1624c8dba"
      },
      "outputs": [
        {
          "output_type": "execute_result",
          "data": {
            "text/plain": [
              "'2.0.1+cu118'"
            ],
            "application/vnd.google.colaboratory.intrinsic+json": {
              "type": "string"
            }
          },
          "metadata": {},
          "execution_count": 2
        }
      ],
      "source": [
        "import torch\n",
        "from torch import nn  # nn contains all of pytorch`s building blocks for neural networks\n",
        "import matplotlib.pyplot as plt\n",
        "\n",
        "# check pytorch version\n",
        "torch.__version__"
      ]
    },
    {
      "cell_type": "markdown",
      "metadata": {
        "id": "TrzMzQPanR6V"
      },
      "source": [
        "# data (prepering and loading)\n",
        "\n",
        "data can be anything... in machine learning.\n",
        "\n",
        "* exel spreadseet\n",
        "* Images of any kind\n",
        "* Videos (Youtube has a lot of data...)\n",
        "* Audio like songs or podcasts\n",
        "* DNA\n",
        "* Text\n",
        "\n",
        "Maching Learning is a game of two parts:\n",
        "1. Get data into a numerical representations.\n",
        "2. Build a model to learn patters in that numerical representation.\n",
        "\n",
        "to show case this, let`s create some *know* data using the linear regresion formula.\n",
        "\n",
        "we`ll use a linear regression formula to make a straight line with *know* **parameters**."
      ]
    },
    {
      "cell_type": "code",
      "execution_count": 3,
      "metadata": {
        "colab": {
          "base_uri": "https://localhost:8080/"
        },
        "id": "6rH0-uT5mBd4",
        "outputId": "0e4edc01-5c02-4803-e755-c6b1be24f272"
      },
      "outputs": [
        {
          "output_type": "execute_result",
          "data": {
            "text/plain": [
              "(tensor([[0.0000],\n",
              "         [0.0200],\n",
              "         [0.0400],\n",
              "         [0.0600],\n",
              "         [0.0800],\n",
              "         [0.1000],\n",
              "         [0.1200],\n",
              "         [0.1400],\n",
              "         [0.1600],\n",
              "         [0.1800]]),\n",
              " tensor([[0.3000],\n",
              "         [0.3140],\n",
              "         [0.3280],\n",
              "         [0.3420],\n",
              "         [0.3560],\n",
              "         [0.3700],\n",
              "         [0.3840],\n",
              "         [0.3980],\n",
              "         [0.4120],\n",
              "         [0.4260]]))"
            ]
          },
          "metadata": {},
          "execution_count": 3
        }
      ],
      "source": [
        "# create *know* parameters\n",
        "\n",
        "weight = 0.7\n",
        "bias = 0.3\n",
        "\n",
        "start = 0\n",
        "end = 1\n",
        "step = 0.02\n",
        "X = torch.arange(start, end, step).unsqueeze(dim=1)\n",
        "y = weight * X + bias\n",
        "\n",
        "X[:10], y[:10]"
      ]
    },
    {
      "cell_type": "code",
      "execution_count": 4,
      "metadata": {
        "colab": {
          "base_uri": "https://localhost:8080/"
        },
        "id": "TFYP1KhBNOD4",
        "outputId": "d3a9bf96-ab87-466a-84b1-e544a359c17e"
      },
      "outputs": [
        {
          "output_type": "execute_result",
          "data": {
            "text/plain": [
              "(50, 50)"
            ]
          },
          "metadata": {},
          "execution_count": 4
        }
      ],
      "source": [
        "len(X), len(y)"
      ]
    },
    {
      "cell_type": "markdown",
      "metadata": {
        "id": "KliMcM2vXYVf"
      },
      "source": [
        "## Spliting data into treining and test sets (one of the most import concepts in ML in general)\n",
        "let`s create a training and test set with our data."
      ]
    },
    {
      "cell_type": "code",
      "execution_count": 5,
      "metadata": {
        "colab": {
          "base_uri": "https://localhost:8080/"
        },
        "id": "eoO3b_DeOEXD",
        "outputId": "2eed99e2-dec1-4d4a-e86c-3697f1f9015a"
      },
      "outputs": [
        {
          "output_type": "execute_result",
          "data": {
            "text/plain": [
              "(40, 40, 10, 10)"
            ]
          },
          "metadata": {},
          "execution_count": 5
        }
      ],
      "source": [
        "train_split = int(0.8 * len(X))\n",
        "train_split\n",
        "X_train, y_train = X[:train_split], y[:train_split]\n",
        "X_test, y_test = X[train_split:], y[train_split:]\n",
        "\n",
        "len(X_train), len(y_train), len(X_test), len(y_test)"
      ]
    },
    {
      "cell_type": "code",
      "execution_count": 6,
      "metadata": {
        "id": "K4pq8oEtV_p4"
      },
      "outputs": [],
      "source": [
        "def plot_predictions(train_data=X_train,\n",
        "                     train_labels=y_train,\n",
        "                     test_data=X_test,\n",
        "                     test_labels=y_test,\n",
        "                     predictions=None):\n",
        "  \"\"\"\n",
        "  Plots training data, test data and compares predictions.\n",
        "  \"\"\"\n",
        "  plt.figure(figsize=(10, 7))\n",
        "\n",
        "  # Plot training data in blue\n",
        "  plt.scatter(train_data, train_labels, c=\"b\", s=4, label=\"Training data\")\n",
        "\n",
        "  # Plot test data in green\n",
        "  plt.scatter(test_data, test_labels, c=\"g\", s=4, label=\"Testing data\")\n",
        "\n",
        "  if predictions is not None:\n",
        "    # Plot the predictions in red (predictions were made on the test data)\n",
        "    plt.scatter(test_data, predictions, c=\"r\", s=4, label=\"Predictions\")\n",
        "\n",
        "  # Show the legend\n",
        "  plt.legend(prop={\"size\": 14});"
      ]
    },
    {
      "cell_type": "code",
      "execution_count": 7,
      "metadata": {
        "colab": {
          "base_uri": "https://localhost:8080/",
          "height": 552
        },
        "id": "FinKwzbcZito",
        "outputId": "e9c11d68-55ca-408e-bdfa-b59e57dff7b2"
      },
      "outputs": [
        {
          "output_type": "display_data",
          "data": {
            "text/plain": [
              "<Figure size 1000x700 with 1 Axes>"
            ],
            "image/png": "[encoded data removed]"
          },
          "metadata": {}
        }
      ],
      "source": [
        "plot_predictions();"
      ]
    },
    {
      "cell_type": "markdown",
      "source": [
        "## 2. building model\n",
        "\n",
        "out first pyTorch model!\n",
        "\n",
        "a bit o classes in this link:\n",
        "https://realpython.com/python3-object-oriented-programming/\n",
        "\n",
        "What this model does:\n",
        "* start with random values (weight and bias)\n",
        "* look at training data and adjust the random values to better represent (as possible) the ideal values (the weight & bias values we used to create the data)\n",
        "\n",
        "How does it do so?\n",
        "\n",
        "Through two main algorithms:\n",
        "1. Gradient descent: https://www.youtube.com/watch?v=IHZwWFHWa-w&ab_channel=3Blue1Brown\n",
        "2. backpropagation: https://www.youtube.com/watch?v=Ilg3gGewQ5U&t=3s&ab_channel=3Blue1Brown"
      ],
      "metadata": {
        "id": "lypYAjeomoym"
      }
    },
    {
      "cell_type": "code",
      "execution_count": 8,
      "metadata": {
        "id": "uGd-xcIIbaog"
      },
      "outputs": [],
      "source": [
        "# create linear regression model class\n",
        "from torch import nn\n",
        "class LinearRegressionModel(nn.Module): # <- almost everything in pytorch from nn.Model\n",
        "  def __init__(self):\n",
        "    super().__init__()\n",
        "    self.weight = nn.Parameter(torch.randn(1,\n",
        "                                           requires_grad = True,\n",
        "                                           dtype=torch.float))\n",
        "\n",
        "    self.bias = nn.Parameter(torch.randn(1,\n",
        "                                         requires_grad = True,\n",
        "                                         dtype=torch.float))\n",
        "  # foward mothod to define the computation in the model\n",
        "  def forward(self, x: torch.Tensor) -> torch.Tensor: # <- \"x\" is a input data\n",
        "    return self.weight * x + self.bias #formula from linear regresion\n",
        "\n",
        "torch.manual_seed(42)\n",
        "model_0 = LinearRegressionModel()"
      ]
    },
    {
      "cell_type": "markdown",
      "source": [
        "### pyTorch model building essesentials\n",
        "\n",
        "* torch.nn - contains all the buildings for computations graphs (a neural network can be consider a computational graph)\n",
        "* torch.nn.Parameter - what parameter should our model try and learn, often a pytorh layer from torch.nn will set these for us\n",
        "* torch.nn.Module - the base class for all neural network modules, if you subclass it, you should overwrite forward()\n",
        "* torch.optim - this where the optimizers in PyTorch live, they will help with gradient descent\n",
        "* def forward() - all nn.Module subclasses require you to overwrite forward(), this method defines what happens in the forward computation\n",
        "see more on: https://pytorch.org/tutorials/beginner/ptcheat.html?highlight=cheat\n"
      ],
      "metadata": {
        "id": "ytvq9RZM0fRE"
      }
    },
    {
      "cell_type": "markdown",
      "source": [
        "### cheking the contents of our PyTorch model\n",
        "\n",
        "Now we`ve created a model, let's see what's inside...\n",
        "\n",
        "so we can check our model parameters or what's inside our model using `.parameters()`  "
      ],
      "metadata": {
        "id": "ZfFPuwuD_6r8"
      }
    },
    {
      "cell_type": "code",
      "source": [
        "# Create a random seed\n",
        "torch.manual_seed(42)\n",
        "\n",
        "# Create a intence of the model (this is a subclass of nn.Module)\n",
        "model_0 = LinearRegressionModel()\n",
        "# check out the parameters\n",
        "list(model_0.parameters())"
      ],
      "metadata": {
        "id": "ZwTugECDAXMb",
        "outputId": "d57ce908-1794-424f-b8a2-653d90e97448",
        "colab": {
          "base_uri": "https://localhost:8080/"
        }
      },
      "execution_count": 9,
      "outputs": [
        {
          "output_type": "execute_result",
          "data": {
            "text/plain": [
              "[Parameter containing:\n",
              " tensor([0.3367], requires_grad=True),\n",
              " Parameter containing:\n",
              " tensor([0.1288], requires_grad=True)]"
            ]
          },
          "metadata": {},
          "execution_count": 9
        }
      ]
    },
    {
      "cell_type": "code",
      "source": [
        "model_0.state_dict()"
      ],
      "metadata": {
        "id": "iupKIsnFA9l-",
        "colab": {
          "base_uri": "https://localhost:8080/"
        },
        "outputId": "ba536f37-6de9-4e02-c07e-c0d956eb34f4"
      },
      "execution_count": 10,
      "outputs": [
        {
          "output_type": "execute_result",
          "data": {
            "text/plain": [
              "OrderedDict([('weight', tensor([0.3367])), ('bias', tensor([0.1288]))])"
            ]
          },
          "metadata": {},
          "execution_count": 10
        }
      ]
    },
    {
      "cell_type": "markdown",
      "source": [
        "### Making predicitions using `torch.inference_mode()`\n",
        "\n",
        "to check our model's predictive power, let's see how well it predicts `y_test` based on `X_test`\n",
        "\n",
        "When we pass data through our model, it's going to run it through the `forward()` method"
      ],
      "metadata": {
        "id": "6HrLMZ_iNK-C"
      }
    },
    {
      "cell_type": "code",
      "source": [
        "X_test, y_test"
      ],
      "metadata": {
        "id": "Z25VAuBPVr4N",
        "outputId": "946fa9d1-9f3e-48db-e248-55282c422854",
        "colab": {
          "base_uri": "https://localhost:8080/"
        }
      },
      "execution_count": 11,
      "outputs": [
        {
          "output_type": "execute_result",
          "data": {
            "text/plain": [
              "(tensor([[0.8000],\n",
              "         [0.8200],\n",
              "         [0.8400],\n",
              "         [0.8600],\n",
              "         [0.8800],\n",
              "         [0.9000],\n",
              "         [0.9200],\n",
              "         [0.9400],\n",
              "         [0.9600],\n",
              "         [0.9800]]),\n",
              " tensor([[0.8600],\n",
              "         [0.8740],\n",
              "         [0.8880],\n",
              "         [0.9020],\n",
              "         [0.9160],\n",
              "         [0.9300],\n",
              "         [0.9440],\n",
              "         [0.9580],\n",
              "         [0.9720],\n",
              "         [0.9860]]))"
            ]
          },
          "metadata": {},
          "execution_count": 11
        }
      ]
    },
    {
      "cell_type": "code",
      "source": [
        "## make predictions with model\n",
        "\n",
        "with torch.inference_mode():\n",
        "  y_preds = model_0(X_test)\n",
        "\n",
        "y_preds"
      ],
      "metadata": {
        "id": "RhIs2xYCNhOX",
        "outputId": "e467926f-fba7-46fa-de8d-3316cfd1294d",
        "colab": {
          "base_uri": "https://localhost:8080/"
        }
      },
      "execution_count": 12,
      "outputs": [
        {
          "output_type": "execute_result",
          "data": {
            "text/plain": [
              "tensor([[0.3982],\n",
              "        [0.4049],\n",
              "        [0.4116],\n",
              "        [0.4184],\n",
              "        [0.4251],\n",
              "        [0.4318],\n",
              "        [0.4386],\n",
              "        [0.4453],\n",
              "        [0.4520],\n",
              "        [0.4588]])"
            ]
          },
          "metadata": {},
          "execution_count": 12
        }
      ]
    },
    {
      "cell_type": "code",
      "source": [
        "plot_predictions(predictions=y_preds)"
      ],
      "metadata": {
        "id": "fq08NvKPVzEp",
        "outputId": "8d718dbf-e7bd-4504-8b83-41f199b9b29c",
        "colab": {
          "base_uri": "https://localhost:8080/",
          "height": 552
        }
      },
      "execution_count": 13,
      "outputs": [
        {
          "output_type": "display_data",
          "data": {
            "text/plain": [
              "<Figure size 1000x700 with 1 Axes>"
            ],
            "image/png": "[encoded data removed]"
          },
          "metadata": {}
        }
      ]
    },
    {
      "cell_type": "markdown",
      "source": [
        "## 3. train model\n",
        "\n",
        "the hole idea of training is for a model to move from some *unknown* parameters (these may be random) to some *knwon* parameters.\n",
        "\n",
        "or in other words from a poor representation of the data to a better representantion of the data.\n",
        "\n",
        "One way to measure how wrong or how poor your models predictions are, is to use a loss functions\n",
        "\n",
        "Note: loss function may also be called as cost function or criterion in different areas. For our case, loss function.\n",
        "\n",
        "Things we need to train:\n",
        "\n",
        "* **Loss function:** A function fo measure how wrong your model's predictions are to the ideal outputs, lower is better.\n",
        "* **Optimizer:** Takes into account the accountthe loss of a model and ajust the models parameters (e. g. weight and biases)\n",
        "\n",
        "And specifically for PyTorch, we need:\n",
        "\n",
        "* A treining loop\n",
        "* A testing loop"
      ],
      "metadata": {
        "id": "oQPPxsA5cvhx"
      }
    },
    {
      "cell_type": "code",
      "source": [
        "model_0.parameters()"
      ],
      "metadata": {
        "id": "ttgm_c2XWvjg",
        "outputId": "29c98697-737d-471f-9675-31abb97e0020",
        "colab": {
          "base_uri": "https://localhost:8080/"
        }
      },
      "execution_count": 14,
      "outputs": [
        {
          "output_type": "execute_result",
          "data": {
            "text/plain": [
              "<generator object Module.parameters at 0x7db915a39690>"
            ]
          },
          "metadata": {},
          "execution_count": 14
        }
      ]
    },
    {
      "cell_type": "code",
      "source": [
        "model_0.state_dict()"
      ],
      "metadata": {
        "id": "AoHJ0Ep4evop",
        "outputId": "ef1663ae-a336-474d-c948-5c2e9b0575d6",
        "colab": {
          "base_uri": "https://localhost:8080/"
        }
      },
      "execution_count": 15,
      "outputs": [
        {
          "output_type": "execute_result",
          "data": {
            "text/plain": [
              "OrderedDict([('weight', tensor([0.3367])), ('bias', tensor([0.1288]))])"
            ]
          },
          "metadata": {},
          "execution_count": 15
        }
      ]
    },
    {
      "cell_type": "code",
      "source": [
        "# setup a loss function\n",
        "loss_fn = nn.L1Loss()\n",
        "\n",
        "# setup a optimizer (stochastic gradient descent)\n",
        "optimizer = torch.optim.SGD(params=model_0.parameters(),\n",
        "                            lr=0.01) # lr = leaning rate = possibly the most important hyperparameter you can set"
      ],
      "metadata": {
        "id": "6WWm_t_Xe6Ae"
      },
      "execution_count": 16,
      "outputs": []
    },
    {
      "cell_type": "code",
      "source": [
        "loss_fn"
      ],
      "metadata": {
        "id": "RI0IUObnhFMR",
        "outputId": "1faf63e0-9ac5-4471-b4ae-7b1e8c69ecce",
        "colab": {
          "base_uri": "https://localhost:8080/"
        }
      },
      "execution_count": 17,
      "outputs": [
        {
          "output_type": "execute_result",
          "data": {
            "text/plain": [
              "L1Loss()"
            ]
          },
          "metadata": {},
          "execution_count": 17
        }
      ]
    },
    {
      "cell_type": "markdown",
      "source": [
        "**Q:** Which loss function and optimizer should i use:\n",
        "\n",
        "**A:** this will be problem specific. But with experience, you'll get an idea of what works and what doesn't with particular problem set.\n",
        "\n",
        "for exemple, for a regression probrem (like ours), a loss function of nn.L1Loss() and an optimizer like torch.optim.SGD() will suffice.\n",
        "But for a classification problem like whether a photo is a dog or a cat, you'll likely wantto use a loss function of nn.BCELoss() (binary cross entropy loss)"
      ],
      "metadata": {
        "id": "lojCERf_pKeV"
      }
    },
    {
      "cell_type": "markdown",
      "source": [
        "### Building a training loop (and a testing loop) in PyTorch\n",
        "\n",
        "a couple of things we need in a training loop:\n",
        "0. loop throughthe data\n",
        "1. forward pass (this involves data moving thrugh our model's `forward()` fuinctions) to make predictions on data - also called forward propagation\n",
        "2. Calculate the loss (compare forward pass predictions to ground truth labels)\n",
        "3. Optimizer zero grad\n",
        "4. Loss backward - move backwards through the network to calculate the gradient of each of the parameters of our model with respect to the loss (**backpropagation**)\n",
        "5. Optimizer step - use the optmizer to adjust our model's parameters to try and improve the loss (**gradient decent**)"
      ],
      "metadata": {
        "id": "-OZfJ1WtvA0-"
      }
    },
    {
      "cell_type": "code",
      "source": [
        "with torch.no_grad():\n",
        "  list(model_0.parameters())"
      ],
      "metadata": {
        "id": "KnG5dxD41FX7"
      },
      "execution_count": 18,
      "outputs": []
    },
    {
      "cell_type": "code",
      "source": [
        "list(model_0.parameters())"
      ],
      "metadata": {
        "id": "enK7tYmnz58i",
        "outputId": "856d6175-cb03-40ff-a21a-a9c89b34a93d",
        "colab": {
          "base_uri": "https://localhost:8080/"
        }
      },
      "execution_count": 19,
      "outputs": [
        {
          "output_type": "execute_result",
          "data": {
            "text/plain": [
              "[Parameter containing:\n",
              " tensor([0.3367], requires_grad=True),\n",
              " Parameter containing:\n",
              " tensor([0.1288], requires_grad=True)]"
            ]
          },
          "metadata": {},
          "execution_count": 19
        }
      ]
    },
    {
      "cell_type": "code",
      "source": [
        "torch.manual_seed(42)\n",
        "\n",
        "# An epoch is one loop through the data... (this is a hyperparameter becouse we've set it ourselves)\n",
        "epochs = 200\n",
        "\n",
        "# Track different values\n",
        "epoch_count = []\n",
        "loss_values = []\n",
        "test_loss_values = []\n",
        "### treining\n",
        "# 0. Loop through the data\n",
        "for epoch in range(epochs):\n",
        "  # Set the model to training mode\n",
        "  model_0.train() #train mode in PyTorch sets all parameters that require gradients to require gradients\n",
        "\n",
        "  #1. forward pass\n",
        "  y_pred = model_0(X_train)\n",
        "\n",
        "  #2. calculate the loss\n",
        "  loss = loss_fn(y_pred, y_train)\n",
        "  #print(f\"loss: {loss}\")\n",
        "  #3. Optimizer zero grad\n",
        "  optimizer.zero_grad()\n",
        "\n",
        "  #4. perform backpropagation on the loss with respect to the parameters of the model\n",
        "  loss.backward()\n",
        "\n",
        "  #5. step the optimizer (perform gradient descent)\n",
        "  optimizer.step() # by default how the optimizer chages will accumulate through the loop so... we have to zero them above in step 3 for the next iteration of the loop\n",
        "\n",
        "  model_0.eval() # turns off different settings in the model not needed for evaluation/testing\n",
        "  with torch.inference_mode(): # turns off gradient tracking & a couple more things behind the scenes`\n",
        "  # with torch.no_grad(): # you may also see torch.no_grad() in older PyTorch code\n",
        "\n",
        "    # 1. Do the forwordpass\n",
        "    test_pred = model_0(X_test)\n",
        "\n",
        "    # 2. Calculate The loss\n",
        "    test_loss = loss_fn(test_pred, y_test)\n",
        "  # print out the hole process\n",
        "  if epoch % 10 == 0:\n",
        "    epoch_count.append(epoch)\n",
        "    loss_values.append(loss)\n",
        "    test_loss_values.append(test_loss)\n",
        "    print(f\"Epoch: {epoch} | Loss: {loss} | test loss: {test_loss}\")\n",
        "  #print out model state_dict()\n",
        "    print(model_0.state_dict())"
      ],
      "metadata": {
        "id": "Cc_szo1BhFpy",
        "colab": {
          "base_uri": "https://localhost:8080/"
        },
        "outputId": "28eea5fd-a635-40a9-9c84-3eddf5b942b9"
      },
      "execution_count": 20,
      "outputs": [
        {
          "output_type": "stream",
          "name": "stdout",
          "text": [
            "Epoch: 0 | Loss: 0.31288138031959534 | test loss: 0.48106518387794495\n",
            "OrderedDict([('weight', tensor([0.3406])), ('bias', tensor([0.1388]))])\n",
            "Epoch: 10 | Loss: 0.1976713240146637 | test loss: 0.3463551998138428\n",
            "OrderedDict([('weight', tensor([0.3796])), ('bias', tensor([0.2388]))])\n",
            "Epoch: 20 | Loss: 0.08908725529909134 | test loss: 0.21729660034179688\n",
            "OrderedDict([('weight', tensor([0.4184])), ('bias', tensor([0.3333]))])\n",
            "Epoch: 30 | Loss: 0.053148526698350906 | test loss: 0.14464017748832703\n",
            "OrderedDict([('weight', tensor([0.4512])), ('bias', tensor([0.3768]))])\n",
            "Epoch: 40 | Loss: 0.04543796554207802 | test loss: 0.11360953003168106\n",
            "OrderedDict([('weight', tensor([0.4748])), ('bias', tensor([0.3868]))])\n",
            "Epoch: 50 | Loss: 0.04167863354086876 | test loss: 0.09919948130846024\n",
            "OrderedDict([('weight', tensor([0.4938])), ('bias', tensor([0.3843]))])\n",
            "Epoch: 60 | Loss: 0.03818932920694351 | test loss: 0.08886633068323135\n",
            "OrderedDict([('weight', tensor([0.5116])), ('bias', tensor([0.3788]))])\n",
            "Epoch: 70 | Loss: 0.03476089984178543 | test loss: 0.0805937647819519\n",
            "OrderedDict([('weight', tensor([0.5288])), ('bias', tensor([0.3718]))])\n",
            "Epoch: 80 | Loss: 0.03132382780313492 | test loss: 0.07232122868299484\n",
            "OrderedDict([('weight', tensor([0.5459])), ('bias', tensor([0.3648]))])\n",
            "Epoch: 90 | Loss: 0.02788739837706089 | test loss: 0.06473556160926819\n",
            "OrderedDict([('weight', tensor([0.5629])), ('bias', tensor([0.3573]))])\n",
            "Epoch: 100 | Loss: 0.024458957836031914 | test loss: 0.05646304413676262\n",
            "OrderedDict([('weight', tensor([0.5800])), ('bias', tensor([0.3503]))])\n",
            "Epoch: 110 | Loss: 0.021020207554101944 | test loss: 0.04819049686193466\n",
            "OrderedDict([('weight', tensor([0.5972])), ('bias', tensor([0.3433]))])\n",
            "Epoch: 120 | Loss: 0.01758546568453312 | test loss: 0.04060482233762741\n",
            "OrderedDict([('weight', tensor([0.6141])), ('bias', tensor([0.3358]))])\n",
            "Epoch: 130 | Loss: 0.014155393466353416 | test loss: 0.03233227878808975\n",
            "OrderedDict([('weight', tensor([0.6313])), ('bias', tensor([0.3288]))])\n",
            "Epoch: 140 | Loss: 0.010716589167714119 | test loss: 0.024059748277068138\n",
            "OrderedDict([('weight', tensor([0.6485])), ('bias', tensor([0.3218]))])\n",
            "Epoch: 150 | Loss: 0.0072835334576666355 | test loss: 0.016474086791276932\n",
            "OrderedDict([('weight', tensor([0.6654])), ('bias', tensor([0.3143]))])\n",
            "Epoch: 160 | Loss: 0.0038517764769494534 | test loss: 0.008201557211577892\n",
            "OrderedDict([('weight', tensor([0.6826])), ('bias', tensor([0.3073]))])\n",
            "Epoch: 170 | Loss: 0.008932482451200485 | test loss: 0.005023092031478882\n",
            "OrderedDict([('weight', tensor([0.6951])), ('bias', tensor([0.2993]))])\n",
            "Epoch: 180 | Loss: 0.008932482451200485 | test loss: 0.005023092031478882\n",
            "OrderedDict([('weight', tensor([0.6951])), ('bias', tensor([0.2993]))])\n",
            "Epoch: 190 | Loss: 0.008932482451200485 | test loss: 0.005023092031478882\n",
            "OrderedDict([('weight', tensor([0.6951])), ('bias', tensor([0.2993]))])\n"
          ]
        }
      ]
    },
    {
      "cell_type": "code",
      "source": [
        "import numpy as np\n",
        "\n",
        "np.array(torch.tensor(loss_values).numpy()), test_loss_values"
      ],
      "metadata": {
        "colab": {
          "base_uri": "https://localhost:8080/"
        },
        "id": "dm4-gLMfBQtc",
        "outputId": "07ef3f73-0c19-4127-b374-418ff20024c2"
      },
      "execution_count": 21,
      "outputs": [
        {
          "output_type": "execute_result",
          "data": {
            "text/plain": [
              "(array([0.31288138, 0.19767132, 0.08908726, 0.05314853, 0.04543797,\n",
              "        0.04167863, 0.03818933, 0.0347609 , 0.03132383, 0.0278874 ,\n",
              "        0.02445896, 0.02102021, 0.01758547, 0.01415539, 0.01071659,\n",
              "        0.00728353, 0.00385178, 0.00893248, 0.00893248, 0.00893248],\n",
              "       dtype=float32),\n",
              " [tensor(0.4811),\n",
              "  tensor(0.3464),\n",
              "  tensor(0.2173),\n",
              "  tensor(0.1446),\n",
              "  tensor(0.1136),\n",
              "  tensor(0.0992),\n",
              "  tensor(0.0889),\n",
              "  tensor(0.0806),\n",
              "  tensor(0.0723),\n",
              "  tensor(0.0647),\n",
              "  tensor(0.0565),\n",
              "  tensor(0.0482),\n",
              "  tensor(0.0406),\n",
              "  tensor(0.0323),\n",
              "  tensor(0.0241),\n",
              "  tensor(0.0165),\n",
              "  tensor(0.0082),\n",
              "  tensor(0.0050),\n",
              "  tensor(0.0050),\n",
              "  tensor(0.0050)])"
            ]
          },
          "metadata": {},
          "execution_count": 21
        }
      ]
    },
    {
      "cell_type": "code",
      "source": [
        "epoch_count, loss_values, test_loss_values"
      ],
      "metadata": {
        "colab": {
          "base_uri": "https://localhost:8080/"
        },
        "id": "daoA5OCD_nJ4",
        "outputId": "159c95eb-d77d-4c06-fdc1-ab8d690a9b4a"
      },
      "execution_count": 22,
      "outputs": [
        {
          "output_type": "execute_result",
          "data": {
            "text/plain": [
              "([0,\n",
              "  10,\n",
              "  20,\n",
              "  30,\n",
              "  40,\n",
              "  50,\n",
              "  60,\n",
              "  70,\n",
              "  80,\n",
              "  90,\n",
              "  100,\n",
              "  110,\n",
              "  120,\n",
              "  130,\n",
              "  140,\n",
              "  150,\n",
              "  160,\n",
              "  170,\n",
              "  180,\n",
              "  190],\n",
              " [tensor(0.3129, grad_fn=<MeanBackward0>),\n",
              "  tensor(0.1977, grad_fn=<MeanBackward0>),\n",
              "  tensor(0.0891, grad_fn=<MeanBackward0>),\n",
              "  tensor(0.0531, grad_fn=<MeanBackward0>),\n",
              "  tensor(0.0454, grad_fn=<MeanBackward0>),\n",
              "  tensor(0.0417, grad_fn=<MeanBackward0>),\n",
              "  tensor(0.0382, grad_fn=<MeanBackward0>),\n",
              "  tensor(0.0348, grad_fn=<MeanBackward0>),\n",
              "  tensor(0.0313, grad_fn=<MeanBackward0>),\n",
              "  tensor(0.0279, grad_fn=<MeanBackward0>),\n",
              "  tensor(0.0245, grad_fn=<MeanBackward0>),\n",
              "  tensor(0.0210, grad_fn=<MeanBackward0>),\n",
              "  tensor(0.0176, grad_fn=<MeanBackward0>),\n",
              "  tensor(0.0142, grad_fn=<MeanBackward0>),\n",
              "  tensor(0.0107, grad_fn=<MeanBackward0>),\n",
              "  tensor(0.0073, grad_fn=<MeanBackward0>),\n",
              "  tensor(0.0039, grad_fn=<MeanBackward0>),\n",
              "  tensor(0.0089, grad_fn=<MeanBackward0>),\n",
              "  tensor(0.0089, grad_fn=<MeanBackward0>),\n",
              "  tensor(0.0089, grad_fn=<MeanBackward0>)],\n",
              " [tensor(0.4811),\n",
              "  tensor(0.3464),\n",
              "  tensor(0.2173),\n",
              "  tensor(0.1446),\n",
              "  tensor(0.1136),\n",
              "  tensor(0.0992),\n",
              "  tensor(0.0889),\n",
              "  tensor(0.0806),\n",
              "  tensor(0.0723),\n",
              "  tensor(0.0647),\n",
              "  tensor(0.0565),\n",
              "  tensor(0.0482),\n",
              "  tensor(0.0406),\n",
              "  tensor(0.0323),\n",
              "  tensor(0.0241),\n",
              "  tensor(0.0165),\n",
              "  tensor(0.0082),\n",
              "  tensor(0.0050),\n",
              "  tensor(0.0050),\n",
              "  tensor(0.0050)])"
            ]
          },
          "metadata": {},
          "execution_count": 22
        }
      ]
    },
    {
      "cell_type": "code",
      "source": [
        "# plot the loss curves\n",
        "plt.plot(epoch_count, np.array(torch.tensor(loss_values).cpu().numpy()), label=\"Train loss\")\n",
        "plt.plot(epoch_count, test_loss_values, label=\"Test Loss\")\n",
        "plt.title(\"training and test loss curves\")\n",
        "plt.ylabel(\"Loss\")\n",
        "plt.xlabel(\"Epochs\")\n",
        "plt.legend();"
      ],
      "metadata": {
        "colab": {
          "base_uri": "https://localhost:8080/",
          "height": 472
        },
        "id": "U2h3dera_kUL",
        "outputId": "c27598a0-0358-46a0-ed96-c22c79a5c9ad"
      },
      "execution_count": 23,
      "outputs": [
        {
          "output_type": "display_data",
          "data": {
            "text/plain": [
              "<Figure size 640x480 with 1 Axes>"
            ],
            "image/png": "[encoded data removed]"
          },
          "metadata": {}
        }
      ]
    },
    {
      "cell_type": "code",
      "source": [
        "with torch.inference_mode():\n",
        "  y_preds_new = model_0(X_test)"
      ],
      "metadata": {
        "id": "gwop8WGfysOF"
      },
      "execution_count": 24,
      "outputs": []
    },
    {
      "cell_type": "code",
      "source": [
        "model_0.state_dict()"
      ],
      "metadata": {
        "colab": {
          "base_uri": "https://localhost:8080/"
        },
        "id": "cNv1-A2n0HCs",
        "outputId": "7cee000d-84bc-42b5-9a97-06c520964315"
      },
      "execution_count": 25,
      "outputs": [
        {
          "output_type": "execute_result",
          "data": {
            "text/plain": [
              "OrderedDict([('weight', tensor([0.6990])), ('bias', tensor([0.3093]))])"
            ]
          },
          "metadata": {},
          "execution_count": 25
        }
      ]
    },
    {
      "cell_type": "code",
      "source": [
        "weight, bias"
      ],
      "metadata": {
        "colab": {
          "base_uri": "https://localhost:8080/"
        },
        "id": "_7lTWur50pvM",
        "outputId": "0e96b22b-dfb6-409c-9d76-108ed7d6ca32"
      },
      "execution_count": 26,
      "outputs": [
        {
          "output_type": "execute_result",
          "data": {
            "text/plain": [
              "(0.7, 0.3)"
            ]
          },
          "metadata": {},
          "execution_count": 26
        }
      ]
    },
    {
      "cell_type": "code",
      "source": [
        "plot_predictions(predictions=y_preds);"
      ],
      "metadata": {
        "colab": {
          "base_uri": "https://localhost:8080/",
          "height": 552
        },
        "id": "365V5qW_0r-x",
        "outputId": "ef8b6601-74a3-4159-d6da-b1893221eddb"
      },
      "execution_count": 27,
      "outputs": [
        {
          "output_type": "display_data",
          "data": {
            "text/plain": [
              "<Figure size 1000x700 with 1 Axes>"
            ],
            "image/png": "[encoded data removed]"
          },
          "metadata": {}
        }
      ]
    },
    {
      "cell_type": "code",
      "source": [
        "plot_predictions(predictions = y_preds_new)"
      ],
      "metadata": {
        "colab": {
          "base_uri": "https://localhost:8080/",
          "height": 552
        },
        "id": "xAFyfC-32ADF",
        "outputId": "6c139f89-8cb0-4f1f-a096-47aee670ad1c"
      },
      "execution_count": 28,
      "outputs": [
        {
          "output_type": "display_data",
          "data": {
            "text/plain": [
              "<Figure size 1000x700 with 1 Axes>"
            ],
            "image/png": "[encoded data removed]"
          },
          "metadata": {}
        }
      ]
    },
    {
      "cell_type": "markdown",
      "source": [
        "### Saving a model in PyTorch\n",
        "\n",
        "There are Three methods you should about for saving and loading models in PyTroch\n",
        "\n",
        "1. `torch.save()` - allows you a PyTroch object in Python's pickle format\n",
        "2. `torch.load()` - allows you load a save PyTorch object\n",
        "3. `Torch.Module.load_state_dict()` - this allows to load a model`saved state dictionary"
      ],
      "metadata": {
        "id": "sQC0ehvfQyaU"
      }
    },
    {
      "cell_type": "code",
      "source": [
        "# Saving our PyTorch model\n",
        "from pathlib import Path\n",
        "\n",
        "# 1. Create models directory\n",
        "MODEL_PATH = Path(\"models\")\n",
        "MODEL_PATH.mkdir(parents=True, exist_ok=True)\n",
        "\n",
        "#2. Create a model save path\n",
        "MODEL_NAME = \"01_pytorch_workflow_model_0.pth\"\n",
        "MODEL_SAVE_PATH = MODEL_PATH / MODEL_NAME\n",
        "\n",
        "print(f\"Saving model to: {MODEL_SAVE_PATH}\")\n",
        "torch.save(obj=model_0.state_dict(),\n",
        "           f=MODEL_SAVE_PATH)\n",
        "\n"
      ],
      "metadata": {
        "colab": {
          "base_uri": "https://localhost:8080/"
        },
        "id": "amdlXPRG2VD7",
        "outputId": "763629ce-b6a0-4d11-d3aa-11a5461c565b"
      },
      "execution_count": 29,
      "outputs": [
        {
          "output_type": "stream",
          "name": "stdout",
          "text": [
            "Saving model to: models/01_pytorch_workflow_model_0.pth\n"
          ]
        }
      ]
    },
    {
      "cell_type": "code",
      "source": [
        "!ls -l models"
      ],
      "metadata": {
        "id": "guEcinQDakUy",
        "outputId": "422d2a0e-0e71-4ae8-d79c-35e4aa715261",
        "colab": {
          "base_uri": "https://localhost:8080/"
        }
      },
      "execution_count": 30,
      "outputs": [
        {
          "output_type": "stream",
          "name": "stdout",
          "text": [
            "total 8\n",
            "-rw-r--r-- 1 root root 1207 Aug 13 06:39 01_pytorch_workflow_model_0.pth\n",
            "-rw-r--r-- 1 root root 1271 Aug 13 06:26 01_pytorch_workflow_model_1.pth\n"
          ]
        }
      ]
    },
    {
      "cell_type": "markdown",
      "source": [
        "### Loading a PyTorch model\n",
        "Since we saved our model's `state_dict()` rather the entire model, we'll create intenace of our model class and `state_dict()` into that"
      ],
      "metadata": {
        "id": "T9CftGf-sQ05"
      }
    },
    {
      "cell_type": "code",
      "source": [
        "model_loaded = torch.load(\"/content/models/01_pytorch_workflow_model_0.pth\")"
      ],
      "metadata": {
        "id": "7fQenyemqDtf"
      },
      "execution_count": 31,
      "outputs": []
    },
    {
      "cell_type": "code",
      "source": [
        "# To load in a saved state_dict we have to instantiate a new instance of our model class\n",
        "loaded_model_0 = LinearRegressionModel()\n",
        "\n",
        "#Load the saved state_dict of model_0 (this will update the new instance with updated parameters)\n",
        "loaded_model_0.load_state_dict(torch.load(f=MODEL_SAVE_PATH))"
      ],
      "metadata": {
        "id": "67Hbvos-qYol",
        "outputId": "cdd73b0c-7565-4efd-db9b-9a51cdd496d9",
        "colab": {
          "base_uri": "https://localhost:8080/"
        }
      },
      "execution_count": 32,
      "outputs": [
        {
          "output_type": "execute_result",
          "data": {
            "text/plain": [
              "<All keys matched successfully>"
            ]
          },
          "metadata": {},
          "execution_count": 32
        }
      ]
    },
    {
      "cell_type": "code",
      "source": [
        "loaded_model_0.state_dict()"
      ],
      "metadata": {
        "id": "vhEhbqfLtdCp",
        "outputId": "4df679ca-7f6f-45b2-d7c8-9b860d4fa286",
        "colab": {
          "base_uri": "https://localhost:8080/"
        }
      },
      "execution_count": 33,
      "outputs": [
        {
          "output_type": "execute_result",
          "data": {
            "text/plain": [
              "OrderedDict([('weight', tensor([0.6990])), ('bias', tensor([0.3093]))])"
            ]
          },
          "metadata": {},
          "execution_count": 33
        }
      ]
    },
    {
      "cell_type": "code",
      "source": [
        "# Make some predictions with our loaded model\n",
        "loaded_model_0.eval()\n",
        "with torch.inference_mode():\n",
        "  loaded_model_preds = loaded_model_0(X_test)\n",
        "\n",
        "loaded_model_preds"
      ],
      "metadata": {
        "id": "L6CPZvOmuHYg",
        "outputId": "5b0d770d-65dd-478e-8c61-67be6bc5c190",
        "colab": {
          "base_uri": "https://localhost:8080/"
        }
      },
      "execution_count": 34,
      "outputs": [
        {
          "output_type": "execute_result",
          "data": {
            "text/plain": [
              "tensor([[0.8685],\n",
              "        [0.8825],\n",
              "        [0.8965],\n",
              "        [0.9105],\n",
              "        [0.9245],\n",
              "        [0.9384],\n",
              "        [0.9524],\n",
              "        [0.9664],\n",
              "        [0.9804],\n",
              "        [0.9944]])"
            ]
          },
          "metadata": {},
          "execution_count": 34
        }
      ]
    },
    {
      "cell_type": "code",
      "source": [
        "# Compare loaded model preds with original model preds\n",
        "y_preds = loaded_model_preds\n",
        "y_preds"
      ],
      "metadata": {
        "id": "CMVgtA_kulps",
        "outputId": "85eb9cd9-3131-42ba-d7d6-41aae76e0a80",
        "colab": {
          "base_uri": "https://localhost:8080/"
        }
      },
      "execution_count": 35,
      "outputs": [
        {
          "output_type": "execute_result",
          "data": {
            "text/plain": [
              "tensor([[0.8685],\n",
              "        [0.8825],\n",
              "        [0.8965],\n",
              "        [0.9105],\n",
              "        [0.9245],\n",
              "        [0.9384],\n",
              "        [0.9524],\n",
              "        [0.9664],\n",
              "        [0.9804],\n",
              "        [0.9944]])"
            ]
          },
          "metadata": {},
          "execution_count": 35
        }
      ]
    },
    {
      "cell_type": "markdown",
      "source": [
        "## 6. Putting it all together\n",
        "\n",
        "let's back through the steps above and see it all in one place"
      ],
      "metadata": {
        "id": "r-H1e6d9wEKw"
      }
    },
    {
      "cell_type": "code",
      "source": [
        "#import Pytorch and mathplotlib\n",
        "import torch\n",
        "from torch import nn\n",
        "import matplotlib.pyplot as plt\n",
        "\n",
        "# check PyTroch version\n",
        "torch.__version__"
      ],
      "metadata": {
        "id": "q2eMd-JCwbpF",
        "outputId": "49a29273-8b89-460c-9797-b08afb0a7804",
        "colab": {
          "base_uri": "https://localhost:8080/",
          "height": 35
        }
      },
      "execution_count": 36,
      "outputs": [
        {
          "output_type": "execute_result",
          "data": {
            "text/plain": [
              "'2.0.1+cu118'"
            ],
            "application/vnd.google.colaboratory.intrinsic+json": {
              "type": "string"
            }
          },
          "metadata": {},
          "execution_count": 36
        }
      ]
    },
    {
      "cell_type": "markdown",
      "source": [
        "Create device-agnostic code.\n",
        "This means if we've got access to a GPU, our code will use it (for potentially faster computing).\n",
        "if no GPU is available, the ode will default to using CPU"
      ],
      "metadata": {
        "id": "ZbYEdNOuxQOQ"
      }
    },
    {
      "cell_type": "code",
      "source": [
        "# Setup device agnostic code\n",
        "device = \"cuda\" if torch.cuda.is_available() else \"cpu\"\n",
        "print(f\"Using device: {device}\")"
      ],
      "metadata": {
        "id": "5FBUNRrZxlq-",
        "outputId": "bc8c36fd-3907-4c55-fc9f-bd2bd9f1b464",
        "colab": {
          "base_uri": "https://localhost:8080/"
        }
      },
      "execution_count": 37,
      "outputs": [
        {
          "output_type": "stream",
          "name": "stdout",
          "text": [
            "Using device: cuda\n"
          ]
        }
      ]
    },
    {
      "cell_type": "markdown",
      "source": [
        "### 6.1 data"
      ],
      "metadata": {
        "id": "67UQ30tJw82j"
      }
    },
    {
      "cell_type": "code",
      "source": [
        "# create some data using the linear regression formula of y = weight * X + bias\n",
        "weight = 0.7\n",
        "bias = 0.3\n",
        "\n",
        "start = 0\n",
        "end = 1\n",
        "step = 0.02\n",
        "\n",
        "# Create X and y (features and labels)\n",
        "X = torch.arange(start, end, step).unsqueeze(dim=1)\n",
        "y = weight * X + bias\n",
        "X[:10], y[:10]"
      ],
      "metadata": {
        "id": "SlY4wUdjwRgE",
        "outputId": "cde8115f-a510-4a6d-f9b6-8861d5d6f7dd",
        "colab": {
          "base_uri": "https://localhost:8080/"
        }
      },
      "execution_count": 38,
      "outputs": [
        {
          "output_type": "execute_result",
          "data": {
            "text/plain": [
              "(tensor([[0.0000],\n",
              "         [0.0200],\n",
              "         [0.0400],\n",
              "         [0.0600],\n",
              "         [0.0800],\n",
              "         [0.1000],\n",
              "         [0.1200],\n",
              "         [0.1400],\n",
              "         [0.1600],\n",
              "         [0.1800]]),\n",
              " tensor([[0.3000],\n",
              "         [0.3140],\n",
              "         [0.3280],\n",
              "         [0.3420],\n",
              "         [0.3560],\n",
              "         [0.3700],\n",
              "         [0.3840],\n",
              "         [0.3980],\n",
              "         [0.4120],\n",
              "         [0.4260]]))"
            ]
          },
          "metadata": {},
          "execution_count": 38
        }
      ]
    },
    {
      "cell_type": "code",
      "source": [
        "# Split data\n",
        "train_split = int(0.8 * len(X))\n",
        "X_train, y_train = X[:train_split], y[:train_split]\n",
        "X_test, y_test = X[train_split:], y[train_split:]\n",
        "len(X_train), len(y_train), len(X_test), len(y_test)"
      ],
      "metadata": {
        "id": "uAvIlUQg0U_N",
        "outputId": "54eb93f5-3620-44c2-ce12-08931f40b86b",
        "colab": {
          "base_uri": "https://localhost:8080/"
        }
      },
      "execution_count": 39,
      "outputs": [
        {
          "output_type": "execute_result",
          "data": {
            "text/plain": [
              "(40, 40, 10, 10)"
            ]
          },
          "metadata": {},
          "execution_count": 39
        }
      ]
    },
    {
      "cell_type": "code",
      "source": [
        "def plot_predictions(train_data=X_train,\n",
        "                     train_labels=y_train,\n",
        "                     test_data=X_test,\n",
        "                     test_labels=y_test,\n",
        "                     predictions=None):\n",
        "  \"\"\"\n",
        "  Plots training data, test data and compares predictions.\n",
        "  \"\"\"\n",
        "  plt.figure(figsize=(10, 7))\n",
        "\n",
        "  # Plot training data in blue\n",
        "  plt.scatter(train_data, train_labels, c=\"b\", s=4, label=\"Training data\")\n",
        "\n",
        "  # Plot test data in green\n",
        "  plt.scatter(test_data, test_labels, c=\"g\", s=4, label=\"Testing data\")\n",
        "\n",
        "  if predictions is not None:\n",
        "    # Plot the predictions in red (predictions were made on the test data)\n",
        "    plt.scatter(test_data, predictions, c=\"r\", s=4, label=\"Predictions\")\n",
        "\n",
        "  # Show the legend\n",
        "  plt.legend(prop={\"size\": 14});"
      ],
      "metadata": {
        "id": "K6gLj1FY34sU"
      },
      "execution_count": 40,
      "outputs": []
    },
    {
      "cell_type": "code",
      "source": [
        "# plot the data\n",
        "# note: if you don't have the plot_predictions() function loaded, this will error\n",
        "plot_predictions(X_train, y_train, X_test, y_test)"
      ],
      "metadata": {
        "id": "aG7AZz1S24SD",
        "outputId": "10014504-90cf-412d-ebcd-75bcacf57e3c",
        "colab": {
          "base_uri": "https://localhost:8080/",
          "height": 552
        }
      },
      "execution_count": 41,
      "outputs": [
        {
          "output_type": "display_data",
          "data": {
            "text/plain": [
              "<Figure size 1000x700 with 1 Axes>"
            ],
            "image/png": "[encoded data removed]"
          },
          "metadata": {}
        }
      ]
    },
    {
      "cell_type": "markdown",
      "source": [
        "### 6.2 building a PyTorch Linear model\n"
      ],
      "metadata": {
        "id": "umxPUkhw6YdX"
      }
    },
    {
      "cell_type": "code",
      "source": [
        "from torch import nn\n",
        "import torch\n",
        "class LinearRegressionModelV2(nn.Module):\n",
        "  def __init__(self):\n",
        "    super().__init__()\n",
        "    self.linear_layer = nn.Linear(in_features=1,\n",
        "                                  out_features=1)\n",
        "\n",
        "  def forward(self, x: torch.Tensor) -> torch.Tensor:\n",
        "    return self.linear_layer(x)\n",
        "\n",
        "# Set The manual seed\n",
        "torch.manual_seed(42)\n",
        "model_1 = LinearRegressionModelV2()\n",
        "model_1, model_1.state_dict()"
      ],
      "metadata": {
        "id": "4ur2hgZ23Px9",
        "outputId": "56425033-b6ac-4931-b6e3-ba71a2955449",
        "colab": {
          "base_uri": "https://localhost:8080/"
        }
      },
      "execution_count": 42,
      "outputs": [
        {
          "output_type": "execute_result",
          "data": {
            "text/plain": [
              "(LinearRegressionModelV2(\n",
              "   (linear_layer): Linear(in_features=1, out_features=1, bias=True)\n",
              " ),\n",
              " OrderedDict([('linear_layer.weight', tensor([[0.7645]])),\n",
              "              ('linear_layer.bias', tensor([0.8300]))]))"
            ]
          },
          "metadata": {},
          "execution_count": 42
        }
      ]
    },
    {
      "cell_type": "code",
      "source": [
        "model_1.state_dict()"
      ],
      "metadata": {
        "id": "BrQn1XD48sSY",
        "outputId": "d66d3c01-88cb-44e3-8081-c4c580b8a44a",
        "colab": {
          "base_uri": "https://localhost:8080/"
        }
      },
      "execution_count": 43,
      "outputs": [
        {
          "output_type": "execute_result",
          "data": {
            "text/plain": [
              "OrderedDict([('linear_layer.weight', tensor([[0.7645]])),\n",
              "             ('linear_layer.bias', tensor([0.8300]))])"
            ]
          },
          "metadata": {},
          "execution_count": 43
        }
      ]
    },
    {
      "cell_type": "code",
      "source": [
        "X_train[:5], y_train[:5]"
      ],
      "metadata": {
        "id": "yiOenhTPBhQY",
        "outputId": "a0cfece4-ea37-487b-877a-5a8b64ff01ce",
        "colab": {
          "base_uri": "https://localhost:8080/"
        }
      },
      "execution_count": 44,
      "outputs": [
        {
          "output_type": "execute_result",
          "data": {
            "text/plain": [
              "(tensor([[0.0000],\n",
              "         [0.0200],\n",
              "         [0.0400],\n",
              "         [0.0600],\n",
              "         [0.0800]]),\n",
              " tensor([[0.3000],\n",
              "         [0.3140],\n",
              "         [0.3280],\n",
              "         [0.3420],\n",
              "         [0.3560]]))"
            ]
          },
          "metadata": {},
          "execution_count": 44
        }
      ]
    },
    {
      "cell_type": "code",
      "source": [],
      "metadata": {
        "id": "VRluQZwDkIkH"
      },
      "execution_count": 44,
      "outputs": []
    },
    {
      "cell_type": "code",
      "source": [
        "# set the model to use the target device\n",
        "device"
      ],
      "metadata": {
        "id": "Mfi73eqiBmow",
        "outputId": "d926419e-fc8c-47ef-c619-0ee01553e849",
        "colab": {
          "base_uri": "https://localhost:8080/",
          "height": 35
        }
      },
      "execution_count": 45,
      "outputs": [
        {
          "output_type": "execute_result",
          "data": {
            "text/plain": [
              "'cuda'"
            ],
            "application/vnd.google.colaboratory.intrinsic+json": {
              "type": "string"
            }
          },
          "metadata": {},
          "execution_count": 45
        }
      ]
    },
    {
      "cell_type": "code",
      "source": [
        "# check the model current device\n",
        "next(model_1.parameters()).device"
      ],
      "metadata": {
        "id": "2bOVAiQCDGh9",
        "outputId": "3f81a406-18fd-4e88-ac2f-287a91efd617",
        "colab": {
          "base_uri": "https://localhost:8080/"
        }
      },
      "execution_count": 46,
      "outputs": [
        {
          "output_type": "execute_result",
          "data": {
            "text/plain": [
              "device(type='cpu')"
            ]
          },
          "metadata": {},
          "execution_count": 46
        }
      ]
    },
    {
      "cell_type": "code",
      "source": [
        "# Set the model to use the target device\n",
        "model_1.to(device)\n",
        "next(model_1.parameters()).device"
      ],
      "metadata": {
        "id": "AJTCsZRXD_Gq",
        "outputId": "4a1403ee-66ea-4864-9dc6-fed677b88e90",
        "colab": {
          "base_uri": "https://localhost:8080/"
        }
      },
      "execution_count": 47,
      "outputs": [
        {
          "output_type": "execute_result",
          "data": {
            "text/plain": [
              "device(type='cuda', index=0)"
            ]
          },
          "metadata": {},
          "execution_count": 47
        }
      ]
    },
    {
      "cell_type": "code",
      "source": [
        "model_1.state_dict()"
      ],
      "metadata": {
        "id": "5EKoeUZoE3Pc",
        "outputId": "ba041440-379f-451f-f721-ed3a99bf3e59",
        "colab": {
          "base_uri": "https://localhost:8080/"
        }
      },
      "execution_count": 48,
      "outputs": [
        {
          "output_type": "execute_result",
          "data": {
            "text/plain": [
              "OrderedDict([('linear_layer.weight', tensor([[0.7645]], device='cuda:0')),\n",
              "             ('linear_layer.bias', tensor([0.8300], device='cuda:0'))])"
            ]
          },
          "metadata": {},
          "execution_count": 48
        }
      ]
    },
    {
      "cell_type": "markdown",
      "source": [
        "### 6.3 Training\n",
        "\n",
        "For training we need:\n",
        "* Loss function\n",
        "* Optimizer\n",
        "* Training loop\n",
        "* Testing loop"
      ],
      "metadata": {
        "id": "HYkT37OVElCG"
      }
    },
    {
      "cell_type": "code",
      "source": [
        "# Setup loss function\n",
        "loss_fn = nn.L1Loss() # same as MAE\n",
        "\n",
        "#Setup our optimizer\n",
        "optimizer = torch.optim.SGD(params=model_1.parameters(),\n",
        "                            lr=0.01)"
      ],
      "metadata": {
        "id": "aDWC7A2EE2Dv"
      },
      "execution_count": 49,
      "outputs": []
    },
    {
      "cell_type": "code",
      "source": [
        "# Let's write a training loop\n",
        "torch.manual_seed(42)\n",
        "\n",
        "epochs = 200\n",
        "\n",
        "# Put data on the target devioce (device agnostic code for data)\n",
        "X_train = X_train.to(device)\n",
        "X_test = X_test.to(device)\n",
        "y_train = y_train.to(device)\n",
        "y_test = y_test.to(device)\n",
        "\n",
        "for epoch in range(epochs):\n",
        "  model_1.train()\n",
        "\n",
        "  # 1. forward pass\n",
        "  y_pred = model_1(X_train)\n",
        "\n",
        "  # 2. Calculate the loss\n",
        "  loss =  loss_fn(y_pred, y_train)\n",
        "\n",
        "  # 3. Optimizer zero grad\n",
        "  optimizer.zero_grad()\n",
        "\n",
        "  # 4. perform backpropagation\n",
        "  loss.backward()\n",
        "\n",
        "  # 5. Optimizer step\n",
        "  optimizer.step()\n",
        "\n",
        "  ### Testing\n",
        "  model_1.eval()\n",
        "  with torch.inference_mode():\n",
        "    test_pred = model_1(X_test)\n",
        "\n",
        "    test_loss = loss_fn(test_pred, y_test)\n",
        "\n",
        "  # Print out what's happening\n",
        "\n",
        "  if epoch % 10 == 0:\n",
        "    print(f\"Epoch: {epoch} | loss: {loss} | Test loss: {test_loss}\")"
      ],
      "metadata": {
        "id": "Nb9_AcQxHzHo",
        "outputId": "d83b24f2-b24a-4d51-e086-88eee7ef92c6",
        "colab": {
          "base_uri": "https://localhost:8080/"
        }
      },
      "execution_count": 50,
      "outputs": [
        {
          "output_type": "stream",
          "name": "stdout",
          "text": [
            "Epoch: 0 | loss: 0.5551779866218567 | Test loss: 0.5739762187004089\n",
            "Epoch: 10 | loss: 0.439968079328537 | Test loss: 0.4392664134502411\n",
            "Epoch: 20 | loss: 0.3247582018375397 | Test loss: 0.30455657839775085\n",
            "Epoch: 30 | loss: 0.20954833924770355 | Test loss: 0.16984669864177704\n",
            "Epoch: 40 | loss: 0.09433845430612564 | Test loss: 0.03513690456748009\n",
            "Epoch: 50 | loss: 0.023886388167738914 | Test loss: 0.04784907028079033\n",
            "Epoch: 60 | loss: 0.019956795498728752 | Test loss: 0.045803118497133255\n",
            "Epoch: 70 | loss: 0.016517987474799156 | Test loss: 0.037530567497015\n",
            "Epoch: 80 | loss: 0.013089174404740334 | Test loss: 0.02994490973651409\n",
            "Epoch: 90 | loss: 0.009653178043663502 | Test loss: 0.02167237363755703\n",
            "Epoch: 100 | loss: 0.006215683650225401 | Test loss: 0.014086711220443249\n",
            "Epoch: 110 | loss: 0.00278724217787385 | Test loss: 0.005814164876937866\n",
            "Epoch: 120 | loss: 0.0012645035749301314 | Test loss: 0.013801801018416882\n",
            "Epoch: 130 | loss: 0.0012645035749301314 | Test loss: 0.013801801018416882\n",
            "Epoch: 140 | loss: 0.0012645035749301314 | Test loss: 0.013801801018416882\n",
            "Epoch: 150 | loss: 0.0012645035749301314 | Test loss: 0.013801801018416882\n",
            "Epoch: 160 | loss: 0.0012645035749301314 | Test loss: 0.013801801018416882\n",
            "Epoch: 170 | loss: 0.0012645035749301314 | Test loss: 0.013801801018416882\n",
            "Epoch: 180 | loss: 0.0012645035749301314 | Test loss: 0.013801801018416882\n",
            "Epoch: 190 | loss: 0.0012645035749301314 | Test loss: 0.013801801018416882\n"
          ]
        }
      ]
    },
    {
      "cell_type": "code",
      "source": [
        "model_1.state_dict()"
      ],
      "metadata": {
        "id": "iubC_7LETh6k",
        "outputId": "0fa3a4bc-603f-408c-9bb9-670e7213794a",
        "colab": {
          "base_uri": "https://localhost:8080/"
        }
      },
      "execution_count": 51,
      "outputs": [
        {
          "output_type": "execute_result",
          "data": {
            "text/plain": [
              "OrderedDict([('linear_layer.weight', tensor([[0.6968]], device='cuda:0')),\n",
              "             ('linear_layer.bias', tensor([0.3025], device='cuda:0'))])"
            ]
          },
          "metadata": {},
          "execution_count": 51
        }
      ]
    },
    {
      "cell_type": "code",
      "source": [
        "weight, bias"
      ],
      "metadata": {
        "id": "T0QpEn2vUoQc",
        "outputId": "4a711666-6cf6-45b8-f0e9-4fde32c28060",
        "colab": {
          "base_uri": "https://localhost:8080/"
        }
      },
      "execution_count": 52,
      "outputs": [
        {
          "output_type": "execute_result",
          "data": {
            "text/plain": [
              "(0.7, 0.3)"
            ]
          },
          "metadata": {},
          "execution_count": 52
        }
      ]
    },
    {
      "cell_type": "code",
      "source": [
        "X_test, y_test"
      ],
      "metadata": {
        "id": "1zSQNc4RVcJi",
        "outputId": "3ec7bcbe-d4c0-4ce7-8413-7a008b335d75",
        "colab": {
          "base_uri": "https://localhost:8080/"
        }
      },
      "execution_count": 53,
      "outputs": [
        {
          "output_type": "execute_result",
          "data": {
            "text/plain": [
              "(tensor([[0.8000],\n",
              "         [0.8200],\n",
              "         [0.8400],\n",
              "         [0.8600],\n",
              "         [0.8800],\n",
              "         [0.9000],\n",
              "         [0.9200],\n",
              "         [0.9400],\n",
              "         [0.9600],\n",
              "         [0.9800]], device='cuda:0'),\n",
              " tensor([[0.8600],\n",
              "         [0.8740],\n",
              "         [0.8880],\n",
              "         [0.9020],\n",
              "         [0.9160],\n",
              "         [0.9300],\n",
              "         [0.9440],\n",
              "         [0.9580],\n",
              "         [0.9720],\n",
              "         [0.9860]], device='cuda:0'))"
            ]
          },
          "metadata": {},
          "execution_count": 53
        }
      ]
    },
    {
      "cell_type": "code",
      "source": [
        "## make predictions with model\n",
        "\n",
        "with torch.inference_mode():\n",
        "  y_preds = model_1(X_test)\n",
        "\n",
        "y_preds_numpy = y_preds.detach().cpu().numpy()\n",
        "\n",
        "type(y_preds_numpy)"
      ],
      "metadata": {
        "id": "Kn_3AHYoVj9y",
        "outputId": "8e70059a-f6af-4de4-8255-ba7255813d37",
        "colab": {
          "base_uri": "https://localhost:8080/"
        }
      },
      "execution_count": 54,
      "outputs": [
        {
          "output_type": "execute_result",
          "data": {
            "text/plain": [
              "numpy.ndarray"
            ]
          },
          "metadata": {},
          "execution_count": 54
        }
      ]
    },
    {
      "cell_type": "code",
      "source": [
        "plot_predictions(predictions=y_preds_numpy)"
      ],
      "metadata": {
        "id": "FqTJjmEwVv0q",
        "outputId": "71e9942f-4c47-4008-9a05-2c00cd1ff4e9",
        "colab": {
          "base_uri": "https://localhost:8080/",
          "height": 552
        }
      },
      "execution_count": 55,
      "outputs": [
        {
          "output_type": "display_data",
          "data": {
            "text/plain": [
              "<Figure size 1000x700 with 1 Axes>"
            ],
            "image/png": "[encoded data removed]"
          },
          "metadata": {}
        }
      ]
    },
    {
      "cell_type": "markdown",
      "source": [
        "### 6.5 Saving & loading a trained model"
      ],
      "metadata": {
        "id": "p-ioicsTib_d"
      }
    },
    {
      "cell_type": "code",
      "source": [
        "### 6.5 Saving & loading a trained model"
      ],
      "metadata": {
        "id": "ukqChJO_WA72"
      },
      "execution_count": 56,
      "outputs": []
    },
    {
      "cell_type": "code",
      "source": [
        "# Saving our PyTorch model\n",
        "from pathlib import Path\n",
        "\n",
        "# 1. Create models directory\n",
        "MODEL_1_PATH = Path(\"models\")\n",
        "MODEL_1_PATH.mkdir(parents=True, exist_ok=True)\n",
        "\n",
        "#2. Create a model save path\n",
        "MODEL_1_NAME = \"01_pytorch_workflow_model_1.pth\"\n",
        "MODEL_1_SAVE_PATH = MODEL_1_PATH / MODEL_1_NAME\n",
        "\n",
        "print(f\"Saving model to: {MODEL_1_SAVE_PATH}\")\n",
        "torch.save(obj=model_1.state_dict(),\n",
        "           f=MODEL_1_SAVE_PATH)\n",
        "\n"
      ],
      "metadata": {
        "colab": {
          "base_uri": "https://localhost:8080/"
        },
        "id": "HWnL9Qg5icXG",
        "outputId": "23c83f2e-34f8-4b1a-c69e-57523eb3b6c8"
      },
      "execution_count": 57,
      "outputs": [
        {
          "output_type": "stream",
          "name": "stdout",
          "text": [
            "Saving model to: models/01_pytorch_workflow_model_1.pth\n"
          ]
        }
      ]
    },
    {
      "cell_type": "code",
      "source": [
        "!ls -l models"
      ],
      "metadata": {
        "colab": {
          "base_uri": "https://localhost:8080/"
        },
        "id": "37TTFHygi7Kl",
        "outputId": "17d54d5c-6503-4012-c9fd-f6275bc4428e"
      },
      "execution_count": 58,
      "outputs": [
        {
          "output_type": "stream",
          "name": "stdout",
          "text": [
            "total 8\n",
            "-rw-r--r-- 1 root root 1207 Aug 13 06:39 01_pytorch_workflow_model_0.pth\n",
            "-rw-r--r-- 1 root root 1271 Aug 13 06:39 01_pytorch_workflow_model_1.pth\n"
          ]
        }
      ]
    },
    {
      "cell_type": "code",
      "source": [
        "model_1_loaded = torch.load(\"/content/models/01_pytorch_workflow_model_1.pth\")"
      ],
      "metadata": {
        "id": "HvlqysKui8bj"
      },
      "execution_count": 59,
      "outputs": []
    },
    {
      "cell_type": "code",
      "source": [
        "# To load in a saved state_dict we have to instantiate a new instance of our model class\n",
        "loaded_model_1 = LinearRegressionModelV2()\n",
        "\n",
        "#Load the saved state_dict of model_0 (this will update the new instance with updated parameters)\n",
        "loaded_model_1.load_state_dict(torch.load(f=MODEL_1_SAVE_PATH))\n",
        "\n",
        "loaded_model_1.to(device)"
      ],
      "metadata": {
        "colab": {
          "base_uri": "https://localhost:8080/"
        },
        "id": "0Eekwb9IjC6A",
        "outputId": "b83d67b9-c8c2-4591-b930-2595b3519f09"
      },
      "execution_count": 60,
      "outputs": [
        {
          "output_type": "execute_result",
          "data": {
            "text/plain": [
              "LinearRegressionModelV2(\n",
              "  (linear_layer): Linear(in_features=1, out_features=1, bias=True)\n",
              ")"
            ]
          },
          "metadata": {},
          "execution_count": 60
        }
      ]
    },
    {
      "cell_type": "code",
      "source": [
        "next(loaded_model_1.parameters()).device"
      ],
      "metadata": {
        "colab": {
          "base_uri": "https://localhost:8080/"
        },
        "id": "JSB3ePzunRUW",
        "outputId": "27e685f3-2d5f-4a1d-c1de-65ee65478071"
      },
      "execution_count": 61,
      "outputs": [
        {
          "output_type": "execute_result",
          "data": {
            "text/plain": [
              "device(type='cuda', index=0)"
            ]
          },
          "metadata": {},
          "execution_count": 61
        }
      ]
    },
    {
      "cell_type": "code",
      "source": [
        "loaded_model_1.state_dict()"
      ],
      "metadata": {
        "colab": {
          "base_uri": "https://localhost:8080/"
        },
        "id": "uYcyAp1zlK43",
        "outputId": "595d896d-874e-4e5b-cea1-0497bcbf6a71"
      },
      "execution_count": 62,
      "outputs": [
        {
          "output_type": "execute_result",
          "data": {
            "text/plain": [
              "OrderedDict([('linear_layer.weight', tensor([[0.6968]], device='cuda:0')),\n",
              "             ('linear_layer.bias', tensor([0.3025], device='cuda:0'))])"
            ]
          },
          "metadata": {},
          "execution_count": 62
        }
      ]
    },
    {
      "cell_type": "code",
      "source": [
        "# Make some predictions with our GPU loaded model\n",
        "loaded_model_1.eval()\n",
        "with torch.inference_mode():\n",
        "  loaded_model_1_preds = loaded_model_1(X_test)\n",
        "\n",
        "y_preds == loaded_model_1_preds"
      ],
      "metadata": {
        "colab": {
          "base_uri": "https://localhost:8080/"
        },
        "id": "44MQa2yslP6C",
        "outputId": "abfc6ab2-3794-4bd6-9cc6-850d5a4c0cb8"
      },
      "execution_count": 63,
      "outputs": [
        {
          "output_type": "execute_result",
          "data": {
            "text/plain": [
              "tensor([[True],\n",
              "        [True],\n",
              "        [True],\n",
              "        [True],\n",
              "        [True],\n",
              "        [True],\n",
              "        [True],\n",
              "        [True],\n",
              "        [True],\n",
              "        [True]], device='cuda:0')"
            ]
          },
          "metadata": {},
          "execution_count": 63
        }
      ]
    }
  ],
  "metadata": {
    "colab": {
      "provenance": [],
      "toc_visible": true,
      "gpuType": "T4",
      "include_colab_link": true
    },
    "kernelspec": {
      "display_name": "Python 3",
      "name": "python3"
    },
    "language_info": {
      "name": "python"
    },
    "orig_nbformat": 4,
    "accelerator": "GPU"
  },
  "nbformat": 4,
  "nbformat_minor": 0
}