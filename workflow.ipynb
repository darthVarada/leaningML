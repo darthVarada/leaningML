{
  "cells": [
    {
      "cell_type": "markdown",
      "metadata": {
        "id": "CjKBGT2BiK4X"
      },
      "source": [
        "## Pytorch WorkFlow\n",
        "\n",
        "lets explore a an example PyTorch end-to-end workflow\n",
        "\n",
        "Resouces:\n",
        "* Ground truth notebook -https://github.com/mrdbourke/pytorch-deep-learning/tree/main\n",
        "* Book version of notebook - https://www.learnpytorch.io/01_pytorch_workflow/\n"
      ]
    },
    {
      "cell_type": "code",
      "execution_count": 1,
      "metadata": {
        "colab": {
          "base_uri": "https://localhost:8080/"
        },
        "id": "4lugZ6WniJUz",
        "outputId": "6e9a6ea3-c8eb-4427-b6cb-2e943b32567d"
      },
      "outputs": [
        {
          "output_type": "execute_result",
          "data": {
            "text/plain": [
              "{1: 'data (prepering and loading)',\n",
              " 2: 'building model',\n",
              " 3: 'fitting the model to data (treining)',\n",
              " 4: 'making predictions and evalueting a model (inference)',\n",
              " 5: 'saving and loading a model',\n",
              " 6: 'putting it all together'}"
            ]
          },
          "metadata": {},
          "execution_count": 1
        }
      ],
      "source": [
        "what_is_covering = {1: \"data (prepering and loading)\",\n",
        "                    2: \"building model\",\n",
        "                    3: \"fitting the model to data (treining)\",\n",
        "                    4: \"making predictions and evalueting a model (inference)\",\n",
        "                    5: \"saving and loading a model\",\n",
        "                    6: \"putting it all together\"\n",
        "}\n",
        "what_is_covering"
      ]
    },
    {
      "cell_type": "code",
      "execution_count": 2,
      "metadata": {
        "colab": {
          "base_uri": "https://localhost:8080/",
          "height": 36
        },
        "id": "QzfUe8eilrom",
        "outputId": "a7d17d72-7e98-437f-aece-a256158d5124"
      },
      "outputs": [
        {
          "output_type": "execute_result",
          "data": {
            "text/plain": [
              "'2.0.1+cu118'"
            ],
            "application/vnd.google.colaboratory.intrinsic+json": {
              "type": "string"
            }
          },
          "metadata": {},
          "execution_count": 2
        }
      ],
      "source": [
        "import torch\n",
        "from torch import nn  # nn contains all of pytorch`s building blocks for neural networks\n",
        "import matplotlib.pyplot as plt\n",
        "\n",
        "# check pytorch version\n",
        "torch.__version__"
      ]
    },
    {
      "cell_type": "markdown",
      "metadata": {
        "id": "TrzMzQPanR6V"
      },
      "source": [
        "# data (prepering and loading)\n",
        "\n",
        "data can be anything... in machine learning.\n",
        "\n",
        "* exel spreadseet\n",
        "* Images of any kind\n",
        "* Videos (Youtube has a lot of data...)\n",
        "* Audio like songs or podcasts\n",
        "* DNA\n",
        "* Text\n",
        "\n",
        "Maching Learning is a game of two parts:\n",
        "1. Get data into a numerical representations.\n",
        "2. Build a model to learn patters in that numerical representation.\n",
        "\n",
        "to show case this, let`s create some *know* data using the linear regresion formula.\n",
        "\n",
        "we`ll use a linear regression formula to make a straight line with *know* **parameters**."
      ]
    },
    {
      "cell_type": "code",
      "execution_count": 3,
      "metadata": {
        "colab": {
          "base_uri": "https://localhost:8080/"
        },
        "id": "6rH0-uT5mBd4",
        "outputId": "991101e0-9fbf-4106-f9b9-6ec29ba5faeb"
      },
      "outputs": [
        {
          "output_type": "execute_result",
          "data": {
            "text/plain": [
              "(tensor([[0.0000],\n",
              "         [0.0200],\n",
              "         [0.0400],\n",
              "         [0.0600],\n",
              "         [0.0800],\n",
              "         [0.1000],\n",
              "         [0.1200],\n",
              "         [0.1400],\n",
              "         [0.1600],\n",
              "         [0.1800]]),\n",
              " tensor([[0.3000],\n",
              "         [0.3140],\n",
              "         [0.3280],\n",
              "         [0.3420],\n",
              "         [0.3560],\n",
              "         [0.3700],\n",
              "         [0.3840],\n",
              "         [0.3980],\n",
              "         [0.4120],\n",
              "         [0.4260]]))"
            ]
          },
          "metadata": {},
          "execution_count": 3
        }
      ],
      "source": [
        "# create *know* parameters\n",
        "\n",
        "weight = 0.7\n",
        "bias = 0.3\n",
        "\n",
        "start = 0\n",
        "end = 1\n",
        "step = 0.02\n",
        "X = torch.arange(start, end, step).unsqueeze(dim=1)\n",
        "y = weight * X + bias\n",
        "\n",
        "X[:10], y[:10]"
      ]
    },
    {
      "cell_type": "code",
      "execution_count": 4,
      "metadata": {
        "colab": {
          "base_uri": "https://localhost:8080/"
        },
        "id": "TFYP1KhBNOD4",
        "outputId": "37c64c83-323b-4d72-a9f9-c0362c8976fd"
      },
      "outputs": [
        {
          "output_type": "execute_result",
          "data": {
            "text/plain": [
              "(50, 50)"
            ]
          },
          "metadata": {},
          "execution_count": 4
        }
      ],
      "source": [
        "len(X), len(y)"
      ]
    },
    {
      "cell_type": "markdown",
      "metadata": {
        "id": "KliMcM2vXYVf"
      },
      "source": [
        "## Spliting data into treining and test sets (one of the most import concepts in ML in general)\n",
        "let`s create a training and test set with our data."
      ]
    },
    {
      "cell_type": "code",
      "execution_count": 5,
      "metadata": {
        "colab": {
          "base_uri": "https://localhost:8080/"
        },
        "id": "eoO3b_DeOEXD",
        "outputId": "b271de8d-6182-4e96-e1db-82c244836cf5"
      },
      "outputs": [
        {
          "output_type": "execute_result",
          "data": {
            "text/plain": [
              "(40, 40, 10, 10)"
            ]
          },
          "metadata": {},
          "execution_count": 5
        }
      ],
      "source": [
        "train_split = int(0.8 * len(X))\n",
        "train_split\n",
        "X_train, y_train = X[:train_split], y[:train_split]\n",
        "X_test, y_test = X[train_split:], y[train_split:]\n",
        "\n",
        "len(X_train), len(y_train), len(X_test), len(y_test)"
      ]
    },
    {
      "cell_type": "code",
      "execution_count": 6,
      "metadata": {
        "id": "K4pq8oEtV_p4"
      },
      "outputs": [],
      "source": [
        "def plot_predictions(train_data=X_train,\n",
        "                     train_labels=y_train,\n",
        "                     test_data=X_test,\n",
        "                     test_labels=y_test,\n",
        "                     predictions=None):\n",
        "  \"\"\"\n",
        "  Plots training data, test data and compares predictions.\n",
        "  \"\"\"\n",
        "  plt.figure(figsize=(10, 7))\n",
        "\n",
        "  # Plot training data in blue\n",
        "  plt.scatter(train_data, train_labels, c=\"b\", s=4, label=\"Training data\")\n",
        "\n",
        "  # Plot test data in green\n",
        "  plt.scatter(test_data, test_labels, c=\"g\", s=4, label=\"Testing data\")\n",
        "\n",
        "  if predictions is not None:\n",
        "    # Plot the predictions in red (predictions were made on the test data)\n",
        "    plt.scatter(test_data, predictions, c=\"r\", s=4, label=\"Predictions\")\n",
        "\n",
        "  # Show the legend\n",
        "  plt.legend(prop={\"size\": 14});"
      ]
    },
    {
      "cell_type": "code",
      "execution_count": 7,
      "metadata": {
        "colab": {
          "base_uri": "https://localhost:8080/",
          "height": 599
        },
        "id": "FinKwzbcZito",
        "outputId": "9e3a2d5b-ec5c-430f-da9c-a4e10e1d8ccf"
      },
      "outputs": [
        {
          "output_type": "display_data",
          "data": {
            "text/plain": [
              "<Figure size 1000x700 with 1 Axes>"
            ],
            "image/png": "[encoded data removed]"
          },
          "metadata": {}
        }
      ],
      "source": [
        "plot_predictions();"
      ]
    },
    {
      "cell_type": "markdown",
      "source": [
        "## 2. building model\n",
        "\n",
        "out first pyTorch model!\n",
        "\n",
        "a bit o classes in this link:\n",
        "https://realpython.com/python3-object-oriented-programming/\n",
        "\n",
        "What this model does:\n",
        "* start with random values (weight and bias)\n",
        "* look at training data and adjust the random values to better represent (as possible) the ideal values (the weight & bias values we used to create the data)\n",
        "\n",
        "How does it do so?\n",
        "\n",
        "Through two main algorithms:\n",
        "1. Gradient descent: https://www.youtube.com/watch?v=IHZwWFHWa-w&ab_channel=3Blue1Brown\n",
        "2. backpropagation: https://www.youtube.com/watch?v=Ilg3gGewQ5U&t=3s&ab_channel=3Blue1Brown"
      ],
      "metadata": {
        "id": "lypYAjeomoym"
      }
    },
    {
      "cell_type": "code",
      "execution_count": 25,
      "metadata": {
        "id": "uGd-xcIIbaog"
      },
      "outputs": [],
      "source": [
        "# create linear regression model class\n",
        "from torch import nn\n",
        "class LinearRegressionModel(nn.Module): # <- almost everything in pytorch from nn.Modele\n",
        "  def __init__(self):\n",
        "    super().__init__()\n",
        "    self.weight = nn.Parameter(torch.randn(1,\n",
        "                                           requires_grad = True,\n",
        "                                           dtype=torch.float))\n",
        "\n",
        "    self.bias = nn.Parameter(torch.randn(1,\n",
        "                                         requires_grad = True,\n",
        "                                         dtype=torch.float))\n",
        "  # foward mothod to define the computation in the model\n",
        "  def forward(self, x: torch.Tensor) -> torch.Tensor: # <- \"x\" is a input data\n",
        "    return self.weight * x + self.bias #formula from linear regresion"
      ]
    },
    {
      "cell_type": "markdown",
      "source": [
        "### pyTorch model building essesentials\n",
        "\n",
        "* torch.nn - contains all the buildings for computations graphs (a neural network can be consider a computational graph)\n",
        "* torch.nn.Parameter - what parameter should our model try and learn, often a pytorh layer from torch.nn will set these for us\n",
        "* torch.nn.Module - the base class for all neural network modules, if you subclass it, you should overwrite forward()\n",
        "* torch.optim - this where the optimizers in PyTorch live, they will help with gradient descent\n",
        "* def forward() - all nn.Module subclasses require you to overwrite forward(), this method defines what happens in the forward computation\n",
        "see more on: https://pytorch.org/tutorials/beginner/ptcheat.html?highlight=cheat\n"
      ],
      "metadata": {
        "id": "ytvq9RZM0fRE"
      }
    },
    {
      "cell_type": "markdown",
      "source": [
        "### cheking the contents of our PyTorch model\n",
        "\n",
        "Now we`ve created a model, let's see what's inside...\n",
        "\n",
        "so we can check our model parameters or what's inside our model using `.parameters()`  "
      ],
      "metadata": {
        "id": "ZfFPuwuD_6r8"
      }
    },
    {
      "cell_type": "code",
      "source": [
        "# Create a random seed\n",
        "torch.manual_seed(4444)\n",
        "\n",
        "# Create a intence of the model (this is a subclass of nn.Module)\n",
        "model_0 = LinearRegressionModel()\n",
        "# check out the parameters\n",
        "list(model_0.parameters())"
      ],
      "metadata": {
        "id": "ZwTugECDAXMb",
        "outputId": "3a9d8144-f541-48e7-c361-bdcf7fe48e99",
        "colab": {
          "base_uri": "https://localhost:8080/"
        }
      },
      "execution_count": 26,
      "outputs": [
        {
          "output_type": "execute_result",
          "data": {
            "text/plain": [
              "[Parameter containing:\n",
              " tensor([0.7605], requires_grad=True),\n",
              " Parameter containing:\n",
              " tensor([-1.0284], requires_grad=True)]"
            ]
          },
          "metadata": {},
          "execution_count": 26
        }
      ]
    },
    {
      "cell_type": "code",
      "source": [
        "model_0.state_dict()"
      ],
      "metadata": {
        "id": "iupKIsnFA9l-",
        "outputId": "f3434e68-6b67-4ec0-99cd-17ef254ab2a5",
        "colab": {
          "base_uri": "https://localhost:8080/"
        }
      },
      "execution_count": 27,
      "outputs": [
        {
          "output_type": "execute_result",
          "data": {
            "text/plain": [
              "OrderedDict([('weight', tensor([0.7605])), ('bias', tensor([-1.0284]))])"
            ]
          },
          "metadata": {},
          "execution_count": 27
        }
      ]
    },
    {
      "cell_type": "markdown",
      "source": [
        "### Making predicitions using `torch.inference_mode()`\n",
        "\n",
        "to check our model's predictive power, let's see how well it predicts `y_test` based on `X_test`\n",
        "\n",
        "When we pass data through our model, it's going to run it through the `forward()` method"
      ],
      "metadata": {
        "id": "6HrLMZ_iNK-C"
      }
    },
    {
      "cell_type": "code",
      "source": [
        "X_test, y_test"
      ],
      "metadata": {
        "id": "Z25VAuBPVr4N",
        "outputId": "e426a864-ad3c-43d3-f731-26158d4182f5",
        "colab": {
          "base_uri": "https://localhost:8080/"
        }
      },
      "execution_count": 28,
      "outputs": [
        {
          "output_type": "execute_result",
          "data": {
            "text/plain": [
              "(tensor([[0.8000],\n",
              "         [0.8200],\n",
              "         [0.8400],\n",
              "         [0.8600],\n",
              "         [0.8800],\n",
              "         [0.9000],\n",
              "         [0.9200],\n",
              "         [0.9400],\n",
              "         [0.9600],\n",
              "         [0.9800]]),\n",
              " tensor([[0.8600],\n",
              "         [0.8740],\n",
              "         [0.8880],\n",
              "         [0.9020],\n",
              "         [0.9160],\n",
              "         [0.9300],\n",
              "         [0.9440],\n",
              "         [0.9580],\n",
              "         [0.9720],\n",
              "         [0.9860]]))"
            ]
          },
          "metadata": {},
          "execution_count": 28
        }
      ]
    },
    {
      "cell_type": "code",
      "source": [
        "## make predictions with model\n",
        "\n",
        "with torch.inference_mode():\n",
        "  y_preds = model_0(X_test)\n",
        "\n",
        "y_preds"
      ],
      "metadata": {
        "id": "RhIs2xYCNhOX",
        "outputId": "506c4dbf-ef20-4d28-b4c7-4ce76110fe71",
        "colab": {
          "base_uri": "https://localhost:8080/"
        }
      },
      "execution_count": 29,
      "outputs": [
        {
          "output_type": "execute_result",
          "data": {
            "text/plain": [
              "tensor([[-0.4200],\n",
              "        [-0.4048],\n",
              "        [-0.3896],\n",
              "        [-0.3744],\n",
              "        [-0.3592],\n",
              "        [-0.3440],\n",
              "        [-0.3288],\n",
              "        [-0.3136],\n",
              "        [-0.2984],\n",
              "        [-0.2831]])"
            ]
          },
          "metadata": {},
          "execution_count": 29
        }
      ]
    },
    {
      "cell_type": "code",
      "source": [
        "plot_predictions(predictions=y_preds)"
      ],
      "metadata": {
        "id": "fq08NvKPVzEp",
        "outputId": "5374d89b-b7d9-40f0-ba5d-8d620608d711",
        "colab": {
          "base_uri": "https://localhost:8080/",
          "height": 599
        }
      },
      "execution_count": 30,
      "outputs": [
        {
          "output_type": "display_data",
          "data": {
            "text/plain": [
              "<Figure size 1000x700 with 1 Axes>"
            ],
            "image/png": "[encoded data removed]"
          },
          "metadata": {}
        }
      ]
    },
    {
      "cell_type": "markdown",
      "source": [
        "## 3. train model\n",
        "\n",
        "the hole idea of training is for a model to move from some *unknown* parameters (these may be random) to some *knwon* parameters.\n",
        "\n",
        "or in other words from a poor representation of the data to a better representantion of the data.\n",
        "\n",
        "One way to measure how wrong or how poor your models predictions are, is to use a loss functions\n",
        "\n",
        "Note: loss function may also be called as cost function or criterion in different areas. For our case, loss function.\n",
        "\n",
        "Things we need to train:\n",
        "\n",
        "* **Loss function:** A function fo measure how wrong your model's predictions are to the ideal outputs, lower is better.\n",
        "* **Optimizer:** Takes into account the accountthe loss of a model and ajust the models parameters (e. g. weight and biases)\n",
        "\n",
        "And specifically for PyTorch, we need:\n",
        "\n",
        "* A treining loop\n",
        "* A testing loop"
      ],
      "metadata": {
        "id": "oQPPxsA5cvhx"
      }
    },
    {
      "cell_type": "code",
      "source": [
        "model_0.parameters()"
      ],
      "metadata": {
        "id": "ttgm_c2XWvjg",
        "outputId": "0d51734f-c591-4e3f-97f2-7c6892dd176d",
        "colab": {
          "base_uri": "https://localhost:8080/"
        }
      },
      "execution_count": 32,
      "outputs": [
        {
          "output_type": "execute_result",
          "data": {
            "text/plain": [
              "<generator object Module.parameters at 0x7853db335e70>"
            ]
          },
          "metadata": {},
          "execution_count": 32
        }
      ]
    },
    {
      "cell_type": "code",
      "source": [
        "model_0.state_dict()"
      ],
      "metadata": {
        "id": "AoHJ0Ep4evop",
        "outputId": "029d3cad-7f2a-4dba-c998-cf0101083bd4",
        "colab": {
          "base_uri": "https://localhost:8080/"
        }
      },
      "execution_count": 33,
      "outputs": [
        {
          "output_type": "execute_result",
          "data": {
            "text/plain": [
              "OrderedDict([('weight', tensor([0.7605])), ('bias', tensor([-1.0284]))])"
            ]
          },
          "metadata": {},
          "execution_count": 33
        }
      ]
    },
    {
      "cell_type": "code",
      "source": [
        "# setup a loss function\n",
        "loss_fn = nn.L1Loss()\n",
        "\n",
        "# setup a optimizer (stochastic gradient descent)\n",
        "optimizer = torch.optim.SGD(params=model_0.parameters(),\n",
        "                            lr=0.001) # lr = leaning rate = possibly the most important hyperparameter you can set"
      ],
      "metadata": {
        "id": "6WWm_t_Xe6Ae"
      },
      "execution_count": 40,
      "outputs": []
    },
    {
      "cell_type": "code",
      "source": [
        "loss_fn"
      ],
      "metadata": {
        "id": "RI0IUObnhFMR",
        "outputId": "1eacab45-b13b-4435-cd2e-e9e263d014d2",
        "colab": {
          "base_uri": "https://localhost:8080/"
        }
      },
      "execution_count": 41,
      "outputs": [
        {
          "output_type": "execute_result",
          "data": {
            "text/plain": [
              "L1Loss()"
            ]
          },
          "metadata": {},
          "execution_count": 41
        }
      ]
    },
    {
      "cell_type": "markdown",
      "source": [
        "**Q:** Which loss function and optimizer should i use:\n",
        "\n",
        "**A:** this will be problem specific. But with experience, you'll get an idea of what works and what doesn't with particular problem set.\n",
        "\n",
        "for exemple, for a regression probrem (like ours), a loss function of nn.L1Loss() and an optimizer like torch.optim.SGD() will suffice.\n",
        "But for a classification problem like whether a photo is a dog or a cat, you'll likely wantto use a loss function of nn.BCELoss() (binary cross entropy loss)"
      ],
      "metadata": {
        "id": "lojCERf_pKeV"
      }
    },
    {
      "cell_type": "markdown",
      "source": [
        "### Building a training loop (and a testing loop) in PyTorch\n",
        "\n",
        "a couple of things we need in a training loop:\n",
        "0. loop throughthe data\n",
        "1. forward pass (this involves data moving thrugh our model's `forward()` fuinctions) to make predictions on data - also called forward propagation\n",
        "2. Calculate the loss (compare forward pass predictions to ground truth labels)\n",
        "3. Optimizer zero grad\n",
        "4. Loss backward - move backwards through the network to calculate the gradient of each of the parameters of our model with respect to the loss (**backpropagation**)\n",
        "5. Optimizer step - use the optmizer to adjust our model's parameters to try and improve the loss (**gradient decent**)"
      ],
      "metadata": {
        "id": "-OZfJ1WtvA0-"
      }
    },
    {
      "cell_type": "code",
      "source": [
        "with torch.no_grad():\n",
        "  list(model_0.parameters())"
      ],
      "metadata": {
        "id": "KnG5dxD41FX7"
      },
      "execution_count": 44,
      "outputs": []
    },
    {
      "cell_type": "code",
      "source": [
        "list(model_0.parameters())"
      ],
      "metadata": {
        "id": "enK7tYmnz58i",
        "outputId": "dcd29dbb-bd8d-47ba-cf5e-22e9fee601d6",
        "colab": {
          "base_uri": "https://localhost:8080/"
        }
      },
      "execution_count": 43,
      "outputs": [
        {
          "output_type": "execute_result",
          "data": {
            "text/plain": [
              "[Parameter containing:\n",
              " tensor([0.7605], requires_grad=True),\n",
              " Parameter containing:\n",
              " tensor([-1.0284], requires_grad=True)]"
            ]
          },
          "metadata": {},
          "execution_count": 43
        }
      ]
    },
    {
      "cell_type": "code",
      "source": [
        "# An epoch is one loop through the data... (this is a hyperparameter becouse we've set it ourselves)\n",
        "epochs = 1\n",
        "\n",
        "### treining\n",
        "# 0. Loop through the data\n",
        "for epoch in range(epochs):\n",
        "  # Set the model to training mode\n",
        "  model_0.train() #train mode in PyTorch sets all parameters that require gradients to require gradients\n",
        "\n",
        "  #1. forward pass\n",
        "  y_pred = model(X_train)\n",
        "\n",
        "  #2. calculate the loss\n",
        "  loss = loss_fn(y_pred, y_train)\n",
        " z\n",
        "  #3. Optimizer zero grad\n",
        "  optimizer.zero_grad()\n",
        "\n",
        "  #4. perform backpropagation on the loss with respect to the parameters of the model\n",
        "  loss.backward()\n",
        "\n",
        "  #5. step the optimizer (perform gradient descent)\n",
        "  optimizer.step() # by default how the optimizer chages will accumulate through the loop so... we have to zero them above in step 3 for the next iteration of the loop\n",
        "\n",
        "  model_0.eval() # turns off gradients tracking"
      ],
      "metadata": {
        "id": "Cc_szo1BhFpy"
      },
      "execution_count": null,
      "outputs": []
    }
  ],
  "metadata": {
    "colab": {
      "provenance": []
    },
    "kernelspec": {
      "display_name": "Python 3",
      "name": "python3"
    },
    "language_info": {
      "name": "python"
    },
    "orig_nbformat": 4
  },
  "nbformat": 4,
  "nbformat_minor": 0
}