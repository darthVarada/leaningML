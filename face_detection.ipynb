{
  "nbformat": 4,
  "nbformat_minor": 0,
  "metadata": {
    "colab": {
      "provenance": [],
      "authorship_tag": "ABX9TyM2/YQpBfd0mOhXgFljr0iR",
      "include_colab_link": true
    },
    "kernelspec": {
      "name": "python3",
      "display_name": "Python 3"
    },
    "language_info": {
      "name": "python"
    }
  },
  "cells": [
    {
      "cell_type": "markdown",
      "metadata": {
        "id": "view-in-github",
        "colab_type": "text"
      },
      "source": [
        "<a href=\"https://colab.research.google.com/github/darthVarada/leaningML/blob/main/face_detection.ipynb\" target=\"_parent\"><img src=\"https://colab.research.google.com/assets/colab-badge.svg\" alt=\"Open In Colab\"/></a>"
      ]
    },
    {
      "cell_type": "markdown",
      "source": [
        "### 1. setup the environment"
      ],
      "metadata": {
        "id": "QuODIz9PmXH6"
      }
    },
    {
      "cell_type": "code",
      "execution_count": null,
      "metadata": {
        "id": "ZVdZGBBrBGDu"
      },
      "outputs": [],
      "source": [
        "pip install mtcnn"
      ]
    },
    {
      "cell_type": "code",
      "source": [
        "  %load_ext autoreload\n",
        "  %autoreload 2\n",
        "\n",
        "  import time\n",
        "  import os\n",
        "  import sys"
      ],
      "metadata": {
        "id": "uhQaYTEcCu0Q"
      },
      "execution_count": null,
      "outputs": []
    },
    {
      "cell_type": "code",
      "source": [
        "from google.colab import drive\n",
        "drive.mount('/content/drive')"
      ],
      "metadata": {
        "id": "tOL-6I3FDfW4"
      },
      "execution_count": null,
      "outputs": []
    },
    {
      "cell_type": "code",
      "source": [
        "\n",
        "PROJECT_PATH = '/content/drive/My Drive/face_recognition/UdemyFaceRecognition/'\n",
        "sys.path.append(PROJECT_PATH)\n",
        "print(PROJECT_PATH)"
      ],
      "metadata": {
        "id": "PR-MKa-UBRkZ"
      },
      "execution_count": null,
      "outputs": []
    },
    {
      "cell_type": "code",
      "source": [
        "os.environ[\"KMP_DUPLICATE_LIB_OK\"]=\"TRUE\""
      ],
      "metadata": {
        "id": "o_z0e_iSmM76"
      },
      "execution_count": null,
      "outputs": []
    },
    {
      "cell_type": "markdown",
      "source": [
        "### 2. Load a face image"
      ],
      "metadata": {
        "id": "RC2Pn-hgmO2r"
      }
    },
    {
      "cell_type": "code",
      "source": [
        "# importing format librarys\n",
        "from PIL import Image\n",
        "import numpy as np\n",
        "import matplotlib.pyplot as plt\n",
        "from matplotlib.pyplot import figure"
      ],
      "metadata": {
        "id": "OYj1w5jimOQ4"
      },
      "execution_count": null,
      "outputs": []
    },
    {
      "cell_type": "code",
      "source": [
        "def read_image(image_path):\n",
        "  image =Image.open(image_path)\n",
        "  # convert to RGB, if needed\n",
        "  image = image.convert('RGB')\n",
        "  #convert to array numpy\n",
        "  pixels = np.asarray(image)\n",
        "  return pixels"
      ],
      "metadata": {
        "id": "Xz-1ezdhmRHy"
      },
      "execution_count": null,
      "outputs": []
    },
    {
      "cell_type": "code",
      "source": [
        "def display_one_image(one_image, its_label):\n",
        "  plt.imshow(one_image)\n",
        "  print(\"label =\" + its_label)\n",
        "  print(\"image shape =\", one_image.shape)\n"
      ],
      "metadata": {
        "id": "EfsZnmdlmfhF"
      },
      "execution_count": null,
      "outputs": []
    },
    {
      "cell_type": "code",
      "source": [
        "PROJECT_PATH = '/content/drive/My Drive/face_recognition/UdemyFaceRecognition/' # colocar no seu driver um pathing para as imagens\n",
        "IMAGES_DATASET_PATH = PROJECT_PATH + 'faces_images'\n",
        "image = read_image(IMAGES_DATASET_PATH + '/Faces/time.jpeg')"
      ],
      "metadata": {
        "id": "PKCyOI32mg2G"
      },
      "execution_count": null,
      "outputs": []
    },
    {
      "cell_type": "code",
      "source": [
        "#displaying the image\n",
        "display_one_image(image, \"time\")"
      ],
      "metadata": {
        "id": "f1U3hvYkmnHM"
      },
      "execution_count": null,
      "outputs": []
    },
    {
      "cell_type": "code",
      "source": [
        "from mtcnn.mtcnn import MTCNN\n",
        "detector = MTCNN()\n"
      ],
      "metadata": {
        "id": "GwE7pMWimowi"
      },
      "execution_count": null,
      "outputs": []
    },
    {
      "cell_type": "code",
      "source": [
        "faces_metadata = detector.detect_faces(image)"
      ],
      "metadata": {
        "id": "5GIgAso-mqeM"
      },
      "execution_count": null,
      "outputs": []
    },
    {
      "cell_type": "code",
      "source": [
        "print(f\"the number of faces are {len(faces_metadata)}\")"
      ],
      "metadata": {
        "id": "DQ7C8h_bmrqv"
      },
      "execution_count": null,
      "outputs": []
    },
    {
      "cell_type": "code",
      "source": [
        "print(faces_metadata[0])"
      ],
      "metadata": {
        "id": "MJL5um69msdl"
      },
      "execution_count": null,
      "outputs": []
    },
    {
      "cell_type": "code",
      "source": [
        "\n",
        "print(faces_metadata[1])"
      ],
      "metadata": {
        "id": "My9OfgPfmuYm"
      },
      "execution_count": null,
      "outputs": []
    },
    {
      "cell_type": "code",
      "source": [
        "#according box\n",
        "face_index=0\n",
        "x0 = int(faces_metadata[face_index][\"box\"][0])\n",
        "y0 = int(faces_metadata[face_index][\"box\"][1])\n",
        "w0 = int(faces_metadata[face_index][\"box\"][2])\n",
        "h0 = int(faces_metadata[face_index][\"box\"][3])\n",
        "print('x=', x0)"
      ],
      "metadata": {
        "id": "KiXQBMLJmxgC"
      },
      "execution_count": null,
      "outputs": []
    },
    {
      "cell_type": "code",
      "source": [
        "import cv2"
      ],
      "metadata": {
        "id": "ETZmtzLDm0Dd"
      },
      "execution_count": null,
      "outputs": []
    },
    {
      "cell_type": "code",
      "source": [
        "\n",
        "first_detected_face_image = image.copy()\n",
        "\n",
        "first_detected_face_image = cv2.rectangle(first_detected_face_image, (x0, y0), (x0+w0, y0 + h0), color=255, thickness = 3)"
      ],
      "metadata": {
        "id": "lPZjKYlom1TT"
      },
      "execution_count": null,
      "outputs": []
    },
    {
      "cell_type": "code",
      "source": [
        "display_one_image(first_detected_face_image, \"frist detected face\")\n"
      ],
      "metadata": {
        "id": "Z7efouGOm2Zu"
      },
      "execution_count": null,
      "outputs": []
    },
    {
      "cell_type": "code",
      "source": [
        "#second detection\n",
        "face_index=1 #\n",
        "x0 = int(faces_metadata[face_index][\"box\"][0])\n",
        "y0 = int(faces_metadata[face_index][\"box\"][1])\n",
        "w0 = int(faces_metadata[face_index][\"box\"][2])\n",
        "h0 = int(faces_metadata[face_index][\"box\"][3])\n",
        "print('x=', x0)"
      ],
      "metadata": {
        "id": "L8lBKhgZm4QJ"
      },
      "execution_count": 1,
      "outputs": []
    },
    {
      "cell_type": "code",
      "source": [
        "second_detected_face_image = image.copy()\n",
        "second_detected_face_image = cv2.rectangle(second_detected_face_image, (x0, y0), (x0+w0, y0 + h0), color=255, thickness = 3)"
      ],
      "metadata": {
        "id": "iCUILZddm7bn"
      },
      "execution_count": null,
      "outputs": []
    },
    {
      "cell_type": "code",
      "source": [
        "display_one_image(second_detected_face_image, \"second detected face\")"
      ],
      "metadata": {
        "id": "iU8rWMRYndp4"
      },
      "execution_count": null,
      "outputs": []
    },
    {
      "cell_type": "markdown",
      "source": [
        "### 3. extracting the face"
      ],
      "metadata": {
        "id": "nv936y5RmtjS"
      }
    },
    {
      "cell_type": "code",
      "source": [
        "required_size=(160, 160)\n",
        "face = image[y0:y0+h0, x0:x0+w0]\n",
        "#resize pixels to the model size\n",
        "face = Image.fromarray(face)\n",
        "face = face.resize(required_size)\n",
        "face= np.asarray(face)"
      ],
      "metadata": {
        "id": "wKmPDKDHnidf"
      },
      "execution_count": null,
      "outputs": []
    },
    {
      "cell_type": "code",
      "source": [
        "display_one_image(face, \"Anis Face\")"
      ],
      "metadata": {
        "id": "YVwjNNLKnj0G"
      },
      "execution_count": null,
      "outputs": []
    }
  ]
}